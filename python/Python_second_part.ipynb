{
 "cells": [
  {
   "cell_type": "code",
   "execution_count": 1,
   "id": "edf253ed-b350-49f4-8834-c0bbcdd68445",
   "metadata": {},
   "outputs": [],
   "source": [
    "a='Egg'"
   ]
  },
  {
   "cell_type": "code",
   "execution_count": 2,
   "id": "a5d583e1-87df-4584-8ba0-90796d8a930a",
   "metadata": {},
   "outputs": [],
   "source": [
    "b=a+a"
   ]
  },
  {
   "cell_type": "code",
   "execution_count": 3,
   "id": "f85e7b7a-c105-4f4b-8dbf-4da3ca31b25d",
   "metadata": {},
   "outputs": [
    {
     "data": {
      "text/plain": [
       "'EggEgg'"
      ]
     },
     "execution_count": 3,
     "metadata": {},
     "output_type": "execute_result"
    }
   ],
   "source": [
    "b"
   ]
  },
  {
   "cell_type": "markdown",
   "id": "01cbef40-e18f-4b94-b5a2-376f53b12244",
   "metadata": {},
   "source": [
    "# List"
   ]
  },
  {
   "cell_type": "code",
   "execution_count": 9,
   "id": "158095d1-d07c-4fe2-bcb5-12fa2f3692a6",
   "metadata": {},
   "outputs": [],
   "source": [
    "a=[\"Ram\",\"Hari\",\"Rita\",\"Ram\"]"
   ]
  },
  {
   "cell_type": "code",
   "execution_count": 8,
   "id": "86fc42d8-48cf-4b8b-8c16-7277a13ee021",
   "metadata": {},
   "outputs": [
    {
     "data": {
      "text/plain": [
       "list"
      ]
     },
     "execution_count": 8,
     "metadata": {},
     "output_type": "execute_result"
    }
   ],
   "source": [
    "type(a)"
   ]
  },
  {
   "cell_type": "code",
   "execution_count": 10,
   "id": "402e936d-68ee-45ad-96e8-16ec8edd43fc",
   "metadata": {},
   "outputs": [],
   "source": [
    "#list is indexed\n",
    "#elements of List are Changeable\n",
    "#list allows Duplicate Values"
   ]
  },
  {
   "cell_type": "code",
   "execution_count": 11,
   "id": "51d34fbb-b78a-4096-ac27-6022ff8c7c9e",
   "metadata": {},
   "outputs": [
    {
     "name": "stdout",
     "output_type": "stream",
     "text": [
      "['Ram', 'Hari', 'Rita', 'Ram']\n"
     ]
    }
   ],
   "source": [
    "print(a)"
   ]
  },
  {
   "cell_type": "code",
   "execution_count": 13,
   "id": "e6c7fafc-b7b9-4f25-9dea-c8bf7ae34d2f",
   "metadata": {},
   "outputs": [],
   "source": [
    "#List can have different Data types\n",
    "b=['Hello',2,False,'MOdule']"
   ]
  },
  {
   "cell_type": "code",
   "execution_count": 14,
   "id": "0deabcab-8325-49ca-a017-9dcf3dc88452",
   "metadata": {},
   "outputs": [
    {
     "data": {
      "text/plain": [
       "['Hello', 2, False, 'MOdule']"
      ]
     },
     "execution_count": 14,
     "metadata": {},
     "output_type": "execute_result"
    }
   ],
   "source": [
    "b"
   ]
  },
  {
   "cell_type": "code",
   "execution_count": 15,
   "id": "8b99ba85-a55f-4a09-bf85-ff237567dcb9",
   "metadata": {},
   "outputs": [],
   "source": [
    "#list can be created in another way\n",
    "c=list(('Hello',False,1,'Lekhraj'))"
   ]
  },
  {
   "cell_type": "code",
   "execution_count": 16,
   "id": "b841381e-eebc-46d5-a41e-5c202f9b0d0b",
   "metadata": {},
   "outputs": [
    {
     "data": {
      "text/plain": [
       "['Hello', False, 1, 'Lekhraj']"
      ]
     },
     "execution_count": 16,
     "metadata": {},
     "output_type": "execute_result"
    }
   ],
   "source": [
    "c"
   ]
  },
  {
   "cell_type": "code",
   "execution_count": 17,
   "id": "77aa1884-04a4-4e9a-9458-e79a01dba29c",
   "metadata": {},
   "outputs": [],
   "source": [
    "d=100"
   ]
  },
  {
   "cell_type": "code",
   "execution_count": 18,
   "id": "41fc1a62-197c-4496-968e-1d84f0978f46",
   "metadata": {},
   "outputs": [],
   "source": [
    "sum=d+b[1]"
   ]
  },
  {
   "cell_type": "code",
   "execution_count": 19,
   "id": "6413641d-7579-4062-b506-6d2f9874733e",
   "metadata": {},
   "outputs": [
    {
     "data": {
      "text/plain": [
       "102"
      ]
     },
     "execution_count": 19,
     "metadata": {},
     "output_type": "execute_result"
    }
   ],
   "source": [
    "sum"
   ]
  },
  {
   "cell_type": "code",
   "execution_count": 21,
   "id": "7c05d412-240d-4c63-992b-6ff0b9913793",
   "metadata": {},
   "outputs": [],
   "source": [
    "#elements can list can be changed\n",
    "b[1]=\"testing\""
   ]
  },
  {
   "cell_type": "code",
   "execution_count": 22,
   "id": "d6c08ed2-083d-48e1-93ba-2144f67336c9",
   "metadata": {},
   "outputs": [
    {
     "data": {
      "text/plain": [
       "['Hello', 'testing', False, 'MOdule']"
      ]
     },
     "execution_count": 22,
     "metadata": {},
     "output_type": "execute_result"
    }
   ],
   "source": [
    "b"
   ]
  },
  {
   "cell_type": "code",
   "execution_count": 23,
   "id": "7404370f-1c23-4762-b3c0-c2844b63abd5",
   "metadata": {},
   "outputs": [
    {
     "data": {
      "text/plain": [
       "['testing', False]"
      ]
     },
     "execution_count": 23,
     "metadata": {},
     "output_type": "execute_result"
    }
   ],
   "source": [
    "b[1:3]"
   ]
  },
  {
   "cell_type": "code",
   "execution_count": 30,
   "id": "035c0ba4-facb-422d-a5fd-1c99bc1072ad",
   "metadata": {},
   "outputs": [],
   "source": [
    "b[1:3]=['OTB','changed value','new val','new secon val']"
   ]
  },
  {
   "cell_type": "code",
   "execution_count": 31,
   "id": "8a352852-d0bb-427a-ae24-3fbfdcf0c37c",
   "metadata": {},
   "outputs": [
    {
     "data": {
      "text/plain": [
       "['Hello',\n",
       " 'OTB',\n",
       " 'changed value',\n",
       " 'new val',\n",
       " 'new secon val',\n",
       " 'new val',\n",
       " 'MOdule']"
      ]
     },
     "execution_count": 31,
     "metadata": {},
     "output_type": "execute_result"
    }
   ],
   "source": [
    "b"
   ]
  },
  {
   "cell_type": "code",
   "execution_count": 32,
   "id": "24c490e8-67dc-4c59-bc9c-019dce013c3f",
   "metadata": {},
   "outputs": [],
   "source": [
    "b.insert(3,\"nepal\")"
   ]
  },
  {
   "cell_type": "code",
   "execution_count": 33,
   "id": "d68fe271-0e81-4a20-98d2-22fcff13062e",
   "metadata": {},
   "outputs": [
    {
     "data": {
      "text/plain": [
       "['Hello',\n",
       " 'OTB',\n",
       " 'changed value',\n",
       " 'nepal',\n",
       " 'new val',\n",
       " 'new secon val',\n",
       " 'new val',\n",
       " 'MOdule']"
      ]
     },
     "execution_count": 33,
     "metadata": {},
     "output_type": "execute_result"
    }
   ],
   "source": [
    "b"
   ]
  },
  {
   "cell_type": "code",
   "execution_count": 34,
   "id": "d5269c63-1539-4f83-a580-7c52b1fa98b4",
   "metadata": {},
   "outputs": [
    {
     "data": {
      "text/plain": [
       "['Hello',\n",
       " 'OTB',\n",
       " 'changed value',\n",
       " 'nepal',\n",
       " 'new val',\n",
       " 'new secon val',\n",
       " 'new val',\n",
       " 'MOdule']"
      ]
     },
     "execution_count": 34,
     "metadata": {},
     "output_type": "execute_result"
    }
   ],
   "source": [
    "b"
   ]
  },
  {
   "cell_type": "code",
   "execution_count": 35,
   "id": "496124da-fcd6-41d5-882e-b2e0dbd2fde8",
   "metadata": {},
   "outputs": [
    {
     "name": "stdout",
     "output_type": "stream",
     "text": [
      "['Hello', 'OTB', 'changed value', 'nepal', 'new val', 'new secon val', 'new val', 'MOdule']\n"
     ]
    }
   ],
   "source": [
    "print(b)"
   ]
  },
  {
   "cell_type": "code",
   "execution_count": 36,
   "id": "4b9c8ed2-1ed1-4067-8488-296cd5337c8b",
   "metadata": {},
   "outputs": [],
   "source": [
    "b.append('Russia')"
   ]
  },
  {
   "cell_type": "code",
   "execution_count": 37,
   "id": "2f434360-2037-42a5-8e49-5cfcab2d3776",
   "metadata": {},
   "outputs": [
    {
     "data": {
      "text/plain": [
       "['Hello',\n",
       " 'OTB',\n",
       " 'changed value',\n",
       " 'nepal',\n",
       " 'new val',\n",
       " 'new secon val',\n",
       " 'new val',\n",
       " 'MOdule',\n",
       " 'Russia']"
      ]
     },
     "execution_count": 37,
     "metadata": {},
     "output_type": "execute_result"
    }
   ],
   "source": [
    "b"
   ]
  },
  {
   "cell_type": "code",
   "execution_count": 38,
   "id": "c008a2b5-81f2-4273-961d-7c7cf72167cc",
   "metadata": {},
   "outputs": [
    {
     "name": "stdout",
     "output_type": "stream",
     "text": [
      "['Hello', 'OTB', 'changed value', 'nepal', 'new val', 'new secon val', 'new val', 'MOdule', 'Russia']\n"
     ]
    }
   ],
   "source": [
    "print(b)"
   ]
  },
  {
   "cell_type": "code",
   "execution_count": 41,
   "id": "8ec018aa-3fa9-4034-8603-cb06088529af",
   "metadata": {},
   "outputs": [],
   "source": [
    "b.extend(['Russia','USA'])"
   ]
  },
  {
   "cell_type": "code",
   "execution_count": 42,
   "id": "2817f2f4-721d-402d-8c1f-b1d00a5b1748",
   "metadata": {},
   "outputs": [
    {
     "data": {
      "text/plain": [
       "['Hello',\n",
       " 'OTB',\n",
       " 'changed value',\n",
       " 'nepal',\n",
       " 'new val',\n",
       " 'new secon val',\n",
       " 'new val',\n",
       " 'MOdule',\n",
       " 'Russia',\n",
       " 'Russia',\n",
       " 'USA',\n",
       " 'Russia',\n",
       " 'USA']"
      ]
     },
     "execution_count": 42,
     "metadata": {},
     "output_type": "execute_result"
    }
   ],
   "source": [
    "b"
   ]
  },
  {
   "cell_type": "code",
   "execution_count": 50,
   "id": "d74c2848-90c5-4dc2-9cc9-ea44a78d060d",
   "metadata": {},
   "outputs": [],
   "source": [
    "b.remove('USA')"
   ]
  },
  {
   "cell_type": "code",
   "execution_count": 51,
   "id": "51308767-68fc-465b-97c7-f86058ae1d85",
   "metadata": {},
   "outputs": [
    {
     "data": {
      "text/plain": [
       "['Hello',\n",
       " 'OTB',\n",
       " 'changed value',\n",
       " 'nepal',\n",
       " 'new val',\n",
       " 'new secon val',\n",
       " 'new val',\n",
       " 'MOdule',\n",
       " 'USA']"
      ]
     },
     "execution_count": 51,
     "metadata": {},
     "output_type": "execute_result"
    }
   ],
   "source": [
    "b"
   ]
  },
  {
   "cell_type": "code",
   "execution_count": 52,
   "id": "690a14e8-4616-4962-ae28-7f8c76a37ba4",
   "metadata": {},
   "outputs": [
    {
     "data": {
      "text/plain": [
       "'USA'"
      ]
     },
     "execution_count": 52,
     "metadata": {},
     "output_type": "execute_result"
    }
   ],
   "source": [
    "b.pop()"
   ]
  },
  {
   "cell_type": "code",
   "execution_count": 53,
   "id": "3eda6895-f20b-4f9c-9c7d-e24cafe88fd6",
   "metadata": {},
   "outputs": [
    {
     "data": {
      "text/plain": [
       "['Hello',\n",
       " 'OTB',\n",
       " 'changed value',\n",
       " 'nepal',\n",
       " 'new val',\n",
       " 'new secon val',\n",
       " 'new val',\n",
       " 'MOdule']"
      ]
     },
     "execution_count": 53,
     "metadata": {},
     "output_type": "execute_result"
    }
   ],
   "source": [
    "b"
   ]
  },
  {
   "cell_type": "code",
   "execution_count": 54,
   "id": "61b9fc12-c2b9-4531-b039-cd18137bda3c",
   "metadata": {},
   "outputs": [],
   "source": [
    "d=b"
   ]
  },
  {
   "cell_type": "code",
   "execution_count": 55,
   "id": "9c83a2bc-d921-469a-a7bd-1c482bc6797e",
   "metadata": {},
   "outputs": [
    {
     "data": {
      "text/plain": [
       "['Hello',\n",
       " 'OTB',\n",
       " 'changed value',\n",
       " 'nepal',\n",
       " 'new val',\n",
       " 'new secon val',\n",
       " 'new val',\n",
       " 'MOdule']"
      ]
     },
     "execution_count": 55,
     "metadata": {},
     "output_type": "execute_result"
    }
   ],
   "source": [
    "d"
   ]
  },
  {
   "cell_type": "code",
   "execution_count": 56,
   "id": "57b55a61-b6eb-431b-b9a3-604e24af4bc6",
   "metadata": {},
   "outputs": [],
   "source": [
    "del b"
   ]
  },
  {
   "cell_type": "code",
   "execution_count": 57,
   "id": "b487c6b3-653e-4487-89f4-46d154325d52",
   "metadata": {},
   "outputs": [
    {
     "ename": "NameError",
     "evalue": "name 'b' is not defined",
     "output_type": "error",
     "traceback": [
      "\u001b[1;31m---------------------------------------------------------------------------\u001b[0m",
      "\u001b[1;31mNameError\u001b[0m                                 Traceback (most recent call last)",
      "Cell \u001b[1;32mIn[57], line 1\u001b[0m\n\u001b[1;32m----> 1\u001b[0m b\n",
      "\u001b[1;31mNameError\u001b[0m: name 'b' is not defined"
     ]
    }
   ],
   "source": [
    "b"
   ]
  },
  {
   "cell_type": "code",
   "execution_count": 58,
   "id": "f5468aa1-b4dc-4abb-9ed8-593d76d69b4e",
   "metadata": {},
   "outputs": [
    {
     "data": {
      "text/plain": [
       "['Hello',\n",
       " 'OTB',\n",
       " 'changed value',\n",
       " 'nepal',\n",
       " 'new val',\n",
       " 'new secon val',\n",
       " 'new val',\n",
       " 'MOdule']"
      ]
     },
     "execution_count": 58,
     "metadata": {},
     "output_type": "execute_result"
    }
   ],
   "source": [
    "d"
   ]
  },
  {
   "cell_type": "code",
   "execution_count": 59,
   "id": "f13f1122-d79d-454c-8ad3-97880a7f9a12",
   "metadata": {},
   "outputs": [],
   "source": [
    "d.clear()"
   ]
  },
  {
   "cell_type": "code",
   "execution_count": 60,
   "id": "7a4770ee-23f7-4513-9194-e6e8475c3ee8",
   "metadata": {},
   "outputs": [
    {
     "data": {
      "text/plain": [
       "[]"
      ]
     },
     "execution_count": 60,
     "metadata": {},
     "output_type": "execute_result"
    }
   ],
   "source": [
    "d"
   ]
  },
  {
   "cell_type": "code",
   "execution_count": 61,
   "id": "421f5e10-d973-48b9-97c9-9eb5af56157d",
   "metadata": {},
   "outputs": [],
   "source": [
    "z=['Hello', 'OTB', 'changed value', 'nepal', 'new val', 'new secon val', 'new val', 'MOdule', 'Russia']"
   ]
  },
  {
   "cell_type": "code",
   "execution_count": 62,
   "id": "ce961bad-f120-4ff4-a872-02a0db03b1a7",
   "metadata": {},
   "outputs": [
    {
     "name": "stdout",
     "output_type": "stream",
     "text": [
      "['Hello', 'OTB', 'changed value', 'nepal', 'new val', 'new secon val', 'new val', 'MOdule', 'Russia']\n"
     ]
    }
   ],
   "source": [
    "print(z)"
   ]
  },
  {
   "cell_type": "code",
   "execution_count": 63,
   "id": "42ab7fc4-b666-4f07-9b30-2efd2d6b6a25",
   "metadata": {},
   "outputs": [
    {
     "name": "stdout",
     "output_type": "stream",
     "text": [
      "Hello\n",
      "OTB\n",
      "changed value\n",
      "nepal\n",
      "new val\n",
      "new secon val\n",
      "new val\n",
      "MOdule\n",
      "Russia\n"
     ]
    }
   ],
   "source": [
    "for i in z:\n",
    "    print(i)"
   ]
  },
  {
   "cell_type": "code",
   "execution_count": 65,
   "id": "c92bc588-7420-4c1f-8660-4c737560de46",
   "metadata": {},
   "outputs": [],
   "source": [
    "j=[2,3,4,7,8,90,30]"
   ]
  },
  {
   "cell_type": "code",
   "execution_count": 66,
   "id": "eea00042-02bc-4fc9-8b78-91317c79d623",
   "metadata": {},
   "outputs": [
    {
     "data": {
      "text/plain": [
       "[2, 3, 4, 7, 8, 90, 30]"
      ]
     },
     "execution_count": 66,
     "metadata": {},
     "output_type": "execute_result"
    }
   ],
   "source": [
    "j"
   ]
  },
  {
   "cell_type": "code",
   "execution_count": 67,
   "id": "912bf869-733e-4d9a-abbe-bad4f9d5c79d",
   "metadata": {},
   "outputs": [],
   "source": [
    "cp=j.copy()"
   ]
  },
  {
   "cell_type": "code",
   "execution_count": 68,
   "id": "4a684fcd-d4f7-4931-b6d8-751f8a71766f",
   "metadata": {},
   "outputs": [
    {
     "data": {
      "text/plain": [
       "[2, 3, 4, 7, 8, 90, 30]"
      ]
     },
     "execution_count": 68,
     "metadata": {},
     "output_type": "execute_result"
    }
   ],
   "source": [
    "cp"
   ]
  },
  {
   "cell_type": "code",
   "execution_count": 69,
   "id": "9e4efaa2-1ac7-4913-88fa-5a8e943de326",
   "metadata": {},
   "outputs": [],
   "source": [
    "cs=j"
   ]
  },
  {
   "cell_type": "code",
   "execution_count": 70,
   "id": "efaf0063-56ca-4430-a9f8-62c4a139b1c8",
   "metadata": {},
   "outputs": [
    {
     "data": {
      "text/plain": [
       "[2, 3, 4, 7, 8, 90, 30]"
      ]
     },
     "execution_count": 70,
     "metadata": {},
     "output_type": "execute_result"
    }
   ],
   "source": [
    "cs"
   ]
  },
  {
   "cell_type": "code",
   "execution_count": 71,
   "id": "f721f1a7-ef5a-4e1d-9086-cb326f496451",
   "metadata": {},
   "outputs": [
    {
     "data": {
      "text/plain": [
       "30"
      ]
     },
     "execution_count": 71,
     "metadata": {},
     "output_type": "execute_result"
    }
   ],
   "source": [
    "j.pop()"
   ]
  },
  {
   "cell_type": "code",
   "execution_count": 72,
   "id": "ab2fde06-5168-4475-9de2-5c84305ca853",
   "metadata": {},
   "outputs": [
    {
     "data": {
      "text/plain": [
       "[2, 3, 4, 7, 8, 90, 30]"
      ]
     },
     "execution_count": 72,
     "metadata": {},
     "output_type": "execute_result"
    }
   ],
   "source": [
    "cp"
   ]
  },
  {
   "cell_type": "code",
   "execution_count": 73,
   "id": "36e5ea45-22d6-4d96-b02b-d3756bdc53c2",
   "metadata": {},
   "outputs": [
    {
     "data": {
      "text/plain": [
       "[2, 3, 4, 7, 8, 90]"
      ]
     },
     "execution_count": 73,
     "metadata": {},
     "output_type": "execute_result"
    }
   ],
   "source": [
    "j"
   ]
  },
  {
   "cell_type": "code",
   "execution_count": 74,
   "id": "b7db8c3a-f541-44b1-9e84-bff3b998d8d6",
   "metadata": {},
   "outputs": [
    {
     "data": {
      "text/plain": [
       "[2, 3, 4, 7, 8, 90, 30]"
      ]
     },
     "execution_count": 74,
     "metadata": {},
     "output_type": "execute_result"
    }
   ],
   "source": [
    "cp"
   ]
  },
  {
   "cell_type": "code",
   "execution_count": 75,
   "id": "a129caf3-002c-4b5c-b3f9-0c43845773d5",
   "metadata": {},
   "outputs": [],
   "source": [
    "newvar = cp"
   ]
  },
  {
   "cell_type": "code",
   "execution_count": 76,
   "id": "5c8c4cd7-7f21-4fd7-9709-e38890e1bda2",
   "metadata": {},
   "outputs": [
    {
     "data": {
      "text/plain": [
       "[2, 3, 4, 7, 8, 90, 30]"
      ]
     },
     "execution_count": 76,
     "metadata": {},
     "output_type": "execute_result"
    }
   ],
   "source": [
    "newvar"
   ]
  },
  {
   "cell_type": "code",
   "execution_count": 77,
   "id": "16c0d648-0990-4bb0-9ed6-758c98dd1d7e",
   "metadata": {},
   "outputs": [],
   "source": [
    "zz = cp.copy()"
   ]
  },
  {
   "cell_type": "code",
   "execution_count": 78,
   "id": "1d996076-56dc-43a9-93f4-fe094855bad3",
   "metadata": {},
   "outputs": [
    {
     "data": {
      "text/plain": [
       "[2, 3, 4, 7, 8, 90, 30]"
      ]
     },
     "execution_count": 78,
     "metadata": {},
     "output_type": "execute_result"
    }
   ],
   "source": [
    "zz"
   ]
  },
  {
   "cell_type": "code",
   "execution_count": 79,
   "id": "057a76a5-0ad5-40d2-aa73-aa4353af2e7b",
   "metadata": {},
   "outputs": [
    {
     "data": {
      "text/plain": [
       "30"
      ]
     },
     "execution_count": 79,
     "metadata": {},
     "output_type": "execute_result"
    }
   ],
   "source": [
    "cp.pop()"
   ]
  },
  {
   "cell_type": "code",
   "execution_count": 80,
   "id": "a289d04b-875e-41b1-a820-e6e3056d8a8f",
   "metadata": {},
   "outputs": [
    {
     "data": {
      "text/plain": [
       "[2, 3, 4, 7, 8, 90, 30]"
      ]
     },
     "execution_count": 80,
     "metadata": {},
     "output_type": "execute_result"
    }
   ],
   "source": [
    "zz"
   ]
  },
  {
   "cell_type": "code",
   "execution_count": 81,
   "id": "40f725ea-cdaf-4853-b095-e88f772c1aac",
   "metadata": {},
   "outputs": [
    {
     "data": {
      "text/plain": [
       "[2, 3, 4, 7, 8, 90]"
      ]
     },
     "execution_count": 81,
     "metadata": {},
     "output_type": "execute_result"
    }
   ],
   "source": [
    "cp"
   ]
  },
  {
   "cell_type": "code",
   "execution_count": 82,
   "id": "868d14b9-f335-4e76-9d81-6140c6a56777",
   "metadata": {},
   "outputs": [
    {
     "data": {
      "text/plain": [
       "[2, 3, 4, 7, 8, 90, 30]"
      ]
     },
     "execution_count": 82,
     "metadata": {},
     "output_type": "execute_result"
    }
   ],
   "source": [
    "zz"
   ]
  },
  {
   "cell_type": "code",
   "execution_count": 83,
   "id": "8cf4db18-4dc4-4d76-a685-7585e167d626",
   "metadata": {},
   "outputs": [
    {
     "data": {
      "text/plain": [
       "[2, 3, 4, 7, 8, 90]"
      ]
     },
     "execution_count": 83,
     "metadata": {},
     "output_type": "execute_result"
    }
   ],
   "source": [
    "newvar"
   ]
  },
  {
   "cell_type": "code",
   "execution_count": 84,
   "id": "8d91f2af-8c52-4cb7-bb9c-e8d5803262e1",
   "metadata": {},
   "outputs": [
    {
     "data": {
      "text/plain": [
       "[2, 3, 4, 7, 8, 90, 2, 3, 4, 7, 8, 90]"
      ]
     },
     "execution_count": 84,
     "metadata": {},
     "output_type": "execute_result"
    }
   ],
   "source": [
    "cs+cp"
   ]
  },
  {
   "cell_type": "code",
   "execution_count": 85,
   "id": "2ad47c63-7fc6-4219-9876-a4dbf5a62dc1",
   "metadata": {},
   "outputs": [
    {
     "name": "stdout",
     "output_type": "stream",
     "text": [
      "[20, 30, 40, 70, 80, 900]\n"
     ]
    }
   ],
   "source": [
    "npr=[]\n",
    "for i in cs:\n",
    "    npr.append(i*10)\n",
    "\n",
    "print(npr)"
   ]
  },
  {
   "cell_type": "code",
   "execution_count": 86,
   "id": "6199c592-ab9c-4180-a833-e9fb21502a02",
   "metadata": {},
   "outputs": [
    {
     "data": {
      "text/plain": [
       "6"
      ]
     },
     "execution_count": 86,
     "metadata": {},
     "output_type": "execute_result"
    }
   ],
   "source": [
    "len(npr)"
   ]
  },
  {
   "cell_type": "code",
   "execution_count": 87,
   "id": "6000f412-5bf3-4db5-bca1-98d97e7bef5e",
   "metadata": {},
   "outputs": [
    {
     "data": {
      "text/plain": [
       "0"
      ]
     },
     "execution_count": 87,
     "metadata": {},
     "output_type": "execute_result"
    }
   ],
   "source": [
    "npr.count(117)"
   ]
  },
  {
   "cell_type": "markdown",
   "id": "bd6e6918-54b4-4be3-bdd8-e0f9a2ce0d96",
   "metadata": {},
   "source": [
    "# Tupple is indexed"
   ]
  },
  {
   "cell_type": "code",
   "execution_count": 10,
   "id": "8f9e96f1-596e-4df6-a44e-31c73bc6db9f",
   "metadata": {},
   "outputs": [],
   "source": [
    "tup = ('Kathmandu','Pokhara')"
   ]
  },
  {
   "cell_type": "code",
   "execution_count": 2,
   "id": "65b4eaa9-c51d-4057-b2e6-9ade945dde2a",
   "metadata": {},
   "outputs": [
    {
     "data": {
      "text/plain": [
       "('Kathmandu', 'Pokhara')"
      ]
     },
     "execution_count": 2,
     "metadata": {},
     "output_type": "execute_result"
    }
   ],
   "source": [
    "tup"
   ]
  },
  {
   "cell_type": "code",
   "execution_count": 3,
   "id": "ef63f304-3b28-49ea-88a1-f75649f4c5d8",
   "metadata": {},
   "outputs": [
    {
     "data": {
      "text/plain": [
       "'Pokhara'"
      ]
     },
     "execution_count": 3,
     "metadata": {},
     "output_type": "execute_result"
    }
   ],
   "source": [
    "tup[1]"
   ]
  },
  {
   "cell_type": "code",
   "execution_count": 4,
   "id": "82b66287-78ef-4753-adbf-510f209e0e12",
   "metadata": {},
   "outputs": [
    {
     "data": {
      "text/plain": [
       "'Pokhara'"
      ]
     },
     "execution_count": 4,
     "metadata": {},
     "output_type": "execute_result"
    }
   ],
   "source": [
    "tup[-1]"
   ]
  },
  {
   "cell_type": "code",
   "execution_count": 6,
   "id": "7c1e66c8-bb5c-419d-a08e-e53eb758d28b",
   "metadata": {},
   "outputs": [
    {
     "name": "stdout",
     "output_type": "stream",
     "text": [
      "('Kathmandu', 'Pokhara')\n"
     ]
    }
   ],
   "source": [
    "print(tup)"
   ]
  },
  {
   "cell_type": "code",
   "execution_count": 13,
   "id": "4fbabdbc-2643-44bf-acd0-13791822a297",
   "metadata": {},
   "outputs": [],
   "source": [
    "tup_t=tuple((\"bhaktapur\",\"lalitpur\",\"kathmandu\"))"
   ]
  },
  {
   "cell_type": "code",
   "execution_count": 15,
   "id": "ea2cea7b-421c-403e-8e29-bcb85073fae1",
   "metadata": {},
   "outputs": [
    {
     "name": "stdout",
     "output_type": "stream",
     "text": [
      "bhaktapur\n",
      "lalitpur\n",
      "kathmandu\n"
     ]
    }
   ],
   "source": [
    "for i in tup_t:\n",
    "    print(i)"
   ]
  },
  {
   "cell_type": "code",
   "execution_count": 25,
   "id": "cde4834e-e02c-4ecf-9a84-f7c1bc46ea82",
   "metadata": {},
   "outputs": [
    {
     "data": {
      "text/plain": [
       "('Kathmandu', 'Pokhara')"
      ]
     },
     "execution_count": 25,
     "metadata": {},
     "output_type": "execute_result"
    }
   ],
   "source": [
    "tup"
   ]
  },
  {
   "cell_type": "code",
   "execution_count": 28,
   "id": "975b2ec3-a985-47e1-9c85-9816c966802b",
   "metadata": {},
   "outputs": [
    {
     "data": {
      "text/plain": [
       "('bhaktapur', 'lalitpur', 'kathmandu')"
      ]
     },
     "execution_count": 28,
     "metadata": {},
     "output_type": "execute_result"
    }
   ],
   "source": [
    "tup_t"
   ]
  },
  {
   "cell_type": "code",
   "execution_count": 30,
   "id": "7c4ff858-7038-4905-8e3f-b6de9ca17a0a",
   "metadata": {},
   "outputs": [],
   "source": [
    "my_tupple=(1,2,3,4,5)"
   ]
  },
  {
   "cell_type": "code",
   "execution_count": 33,
   "id": "f76d0201-d04d-47f9-b520-e6aeea628b95",
   "metadata": {},
   "outputs": [
    {
     "data": {
      "text/plain": [
       "(1, 2, 3, 4, 5)"
      ]
     },
     "execution_count": 33,
     "metadata": {},
     "output_type": "execute_result"
    }
   ],
   "source": [
    "my_tupple"
   ]
  },
  {
   "cell_type": "code",
   "execution_count": 35,
   "id": "393ae2e1-d8a8-49d2-98f1-d3838a5d4935",
   "metadata": {},
   "outputs": [],
   "source": [
    "my_list = []"
   ]
  },
  {
   "cell_type": "code",
   "execution_count": 36,
   "id": "a5d473ab-a8c2-432f-b43c-877e2a19e12c",
   "metadata": {},
   "outputs": [
    {
     "data": {
      "text/plain": [
       "list"
      ]
     },
     "execution_count": 36,
     "metadata": {},
     "output_type": "execute_result"
    }
   ],
   "source": [
    "type(my_list)"
   ]
  },
  {
   "cell_type": "code",
   "execution_count": 40,
   "id": "2d820b9c-4cf9-4fe6-ac6e-056185b600d8",
   "metadata": {},
   "outputs": [
    {
     "data": {
      "text/plain": [
       "tuple"
      ]
     },
     "execution_count": 40,
     "metadata": {},
     "output_type": "execute_result"
    }
   ],
   "source": [
    "type(my_tupple)"
   ]
  },
  {
   "cell_type": "code",
   "execution_count": 54,
   "id": "d23e1808-6663-4fd4-836c-e1253a9a6717",
   "metadata": {},
   "outputs": [
    {
     "name": "stdout",
     "output_type": "stream",
     "text": [
      "1 2 3\n"
     ]
    }
   ],
   "source": [
    "my_tuple = (1, 2, 3)\n",
    "a, b, c = my_tuple\n",
    "print(a, b, c)  # Output: 1 2 3"
   ]
  },
  {
   "cell_type": "code",
   "execution_count": 55,
   "id": "98d6b7b1-1be9-4e18-a40b-751769658e8a",
   "metadata": {},
   "outputs": [
    {
     "name": "stdout",
     "output_type": "stream",
     "text": [
      "4 5 6\n"
     ]
    }
   ],
   "source": [
    "my_list = [4, 5, 6]\n",
    "x, y, z = my_list\n",
    "print(x, y, z)  # Output: 4 5 6"
   ]
  },
  {
   "cell_type": "code",
   "execution_count": 56,
   "id": "4368ee72-4109-4978-bafa-998a34c500ba",
   "metadata": {},
   "outputs": [],
   "source": [
    "(citya, *cityb) = (\"kathmand\",\"bhaktpaur\",\"Lalitpur\")"
   ]
  },
  {
   "cell_type": "code",
   "execution_count": 57,
   "id": "ac8eee3b-1590-4d52-9ed5-2098f5ea70b6",
   "metadata": {},
   "outputs": [
    {
     "data": {
      "text/plain": [
       "'kathmand'"
      ]
     },
     "execution_count": 57,
     "metadata": {},
     "output_type": "execute_result"
    }
   ],
   "source": [
    "citya"
   ]
  },
  {
   "cell_type": "code",
   "execution_count": 58,
   "id": "171b7161-9976-4875-a0b9-301162f096d2",
   "metadata": {},
   "outputs": [
    {
     "data": {
      "text/plain": [
       "['bhaktpaur', 'Lalitpur']"
      ]
     },
     "execution_count": 58,
     "metadata": {},
     "output_type": "execute_result"
    }
   ],
   "source": [
    "cityb"
   ]
  },
  {
   "cell_type": "markdown",
   "id": "2f5b1977-5a71-4be7-8e3a-72e35d8edf7d",
   "metadata": {},
   "source": [
    "# loop in tuple"
   ]
  },
  {
   "cell_type": "markdown",
   "id": "2ad9ed45-6dc2-4ffd-aded-ba5efbfd362b",
   "metadata": {},
   "source": [
    "# set"
   ]
  },
  {
   "cell_type": "code",
   "execution_count": 59,
   "id": "d1fbcca9-3171-40a0-a004-66bd75772be5",
   "metadata": {},
   "outputs": [],
   "source": [
    "a={33,4,5,6,7,87,7,7,7}"
   ]
  },
  {
   "cell_type": "code",
   "execution_count": 60,
   "id": "8391e37c-827a-4c87-b6b3-e935e52f655b",
   "metadata": {},
   "outputs": [
    {
     "data": {
      "text/plain": [
       "{4, 5, 6, 7, 33, 87}"
      ]
     },
     "execution_count": 60,
     "metadata": {},
     "output_type": "execute_result"
    }
   ],
   "source": [
    "a"
   ]
  },
  {
   "cell_type": "code",
   "execution_count": 61,
   "id": "50cdfb86-4883-4e1a-95cf-0f06478ddbf7",
   "metadata": {},
   "outputs": [
    {
     "name": "stdout",
     "output_type": "stream",
     "text": [
      "{33, 4, 5, 6, 7, 87}\n"
     ]
    }
   ],
   "source": [
    "print(a)"
   ]
  },
  {
   "cell_type": "code",
   "execution_count": 62,
   "id": "2b81b09b-ed75-4f7c-9c9f-253392b94bc0",
   "metadata": {},
   "outputs": [],
   "source": [
    "dd={34,4.4,5,6,7}"
   ]
  },
  {
   "cell_type": "code",
   "execution_count": 63,
   "id": "7d350c88-e489-4d3d-aa1f-be13b834cccd",
   "metadata": {},
   "outputs": [
    {
     "data": {
      "text/plain": [
       "{4.4, 5, 6, 7, 34}"
      ]
     },
     "execution_count": 63,
     "metadata": {},
     "output_type": "execute_result"
    }
   ],
   "source": [
    "dd"
   ]
  },
  {
   "cell_type": "code",
   "execution_count": 64,
   "id": "e9a50991-4c3e-427b-8b1a-9f3a7ac9d832",
   "metadata": {},
   "outputs": [
    {
     "data": {
      "text/plain": [
       "5"
      ]
     },
     "execution_count": 64,
     "metadata": {},
     "output_type": "execute_result"
    }
   ],
   "source": [
    "len(dd)"
   ]
  },
  {
   "cell_type": "markdown",
   "id": "a26f862a-ddcc-42e4-b8c1-35fc0fa413ea",
   "metadata": {},
   "source": [
    "# Access the element"
   ]
  },
  {
   "cell_type": "code",
   "execution_count": 67,
   "id": "f14af401-7079-47f9-97ee-dc4524adcfea",
   "metadata": {},
   "outputs": [
    {
     "name": "stdout",
     "output_type": "stream",
     "text": [
      "34\n",
      "4.4\n",
      "5\n",
      "6\n",
      "7\n"
     ]
    }
   ],
   "source": [
    "for a in dd:\n",
    "    print(a)"
   ]
  },
  {
   "cell_type": "markdown",
   "id": "a938a211-d66e-4e62-98b7-48c737aaa813",
   "metadata": {},
   "source": [
    "#value addition in set"
   ]
  },
  {
   "cell_type": "code",
   "execution_count": 68,
   "id": "43f3f8f1-fcdc-468b-8160-251bd05cd2fc",
   "metadata": {},
   "outputs": [],
   "source": [
    "dd.add(89)"
   ]
  },
  {
   "cell_type": "code",
   "execution_count": 69,
   "id": "b1d45f0a-e753-4160-9ca8-c1f820cd0323",
   "metadata": {},
   "outputs": [
    {
     "data": {
      "text/plain": [
       "{4.4, 5, 6, 7, 34, 89}"
      ]
     },
     "execution_count": 69,
     "metadata": {},
     "output_type": "execute_result"
    }
   ],
   "source": [
    "dd"
   ]
  },
  {
   "cell_type": "code",
   "execution_count": 70,
   "id": "deda64fe-fbff-4ff0-9265-e4105179e7c6",
   "metadata": {},
   "outputs": [],
   "source": [
    "dd.remove(5)"
   ]
  },
  {
   "cell_type": "code",
   "execution_count": 71,
   "id": "554b658c-a033-4163-9979-d611fb7600fc",
   "metadata": {},
   "outputs": [
    {
     "data": {
      "text/plain": [
       "{4.4, 6, 7, 34, 89}"
      ]
     },
     "execution_count": 71,
     "metadata": {},
     "output_type": "execute_result"
    }
   ],
   "source": [
    "dd"
   ]
  },
  {
   "cell_type": "code",
   "execution_count": 72,
   "id": "248420b4-0ddb-463d-894b-2c4ed6c9676f",
   "metadata": {},
   "outputs": [],
   "source": [
    "dd.discard(6)"
   ]
  },
  {
   "cell_type": "code",
   "execution_count": 73,
   "id": "cf21a1ac-cae5-478c-aa13-85130a14db54",
   "metadata": {},
   "outputs": [
    {
     "data": {
      "text/plain": [
       "{4.4, 7, 34, 89}"
      ]
     },
     "execution_count": 73,
     "metadata": {},
     "output_type": "execute_result"
    }
   ],
   "source": [
    "dd"
   ]
  },
  {
   "cell_type": "code",
   "execution_count": null,
   "id": "6de3078a-e723-48a4-97df-be99b392f9b0",
   "metadata": {},
   "outputs": [],
   "source": []
  }
 ],
 "metadata": {
  "kernelspec": {
   "display_name": "Python 3 (ipykernel)",
   "language": "python",
   "name": "python3"
  },
  "language_info": {
   "codemirror_mode": {
    "name": "ipython",
    "version": 3
   },
   "file_extension": ".py",
   "mimetype": "text/x-python",
   "name": "python",
   "nbconvert_exporter": "python",
   "pygments_lexer": "ipython3",
   "version": "3.12.4"
  }
 },
 "nbformat": 4,
 "nbformat_minor": 5
}
