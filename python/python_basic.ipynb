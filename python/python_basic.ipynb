{
 "cells": [
  {
   "cell_type": "code",
   "execution_count": 5,
   "id": "99556771-ff75-44ad-9a35-dc197de2390f",
   "metadata": {},
   "outputs": [
    {
     "name": "stdout",
     "output_type": "stream",
     "text": [
      "hello world\n"
     ]
    }
   ],
   "source": [
    "print('hello world')"
   ]
  },
  {
   "cell_type": "code",
   "execution_count": 6,
   "id": "9965b3e2-e524-425b-8d54-0df6b281530c",
   "metadata": {},
   "outputs": [
    {
     "name": "stdout",
     "output_type": "stream",
     "text": [
      "hello lekhraj\n"
     ]
    }
   ],
   "source": [
    "print('hello lekhraj')"
   ]
  },
  {
   "cell_type": "code",
   "execution_count": 7,
   "id": "4f59ce9a-68e3-47e4-827f-4adc21d2fceb",
   "metadata": {},
   "outputs": [
    {
     "name": "stdin",
     "output_type": "stream",
     "text": [
      "what is your name \n"
     ]
    }
   ],
   "source": [
    "name=input('what is your name')"
   ]
  },
  {
   "cell_type": "code",
   "execution_count": 8,
   "id": "f77c3925-103f-4d7a-8348-5524abd75e14",
   "metadata": {},
   "outputs": [
    {
     "name": "stdout",
     "output_type": "stream",
     "text": [
      "\n"
     ]
    }
   ],
   "source": [
    "print(name)"
   ]
  },
  {
   "cell_type": "code",
   "execution_count": 2,
   "id": "96546041-dfa2-4e0f-b47d-3018c3447517",
   "metadata": {},
   "outputs": [],
   "source": [
    "a=15\n",
    "b='nepal'\n",
    "c=5.6"
   ]
  },
  {
   "cell_type": "code",
   "execution_count": 4,
   "id": "76eec5c9-a20b-42c7-98f1-9a62fb57406f",
   "metadata": {},
   "outputs": [
    {
     "data": {
      "text/plain": [
       "int"
      ]
     },
     "execution_count": 4,
     "metadata": {},
     "output_type": "execute_result"
    }
   ],
   "source": [
    "type(a)"
   ]
  },
  {
   "cell_type": "code",
   "execution_count": 5,
   "id": "60846914-9c80-4f10-82fa-f4eae1dd4b5a",
   "metadata": {},
   "outputs": [],
   "source": [
    "d=23"
   ]
  },
  {
   "cell_type": "code",
   "execution_count": 8,
   "id": "be730248-5998-4251-874d-99ab1d2d3a78",
   "metadata": {},
   "outputs": [
    {
     "data": {
      "text/plain": [
       "str"
      ]
     },
     "execution_count": 8,
     "metadata": {},
     "output_type": "execute_result"
    }
   ],
   "source": [
    "type (b)"
   ]
  },
  {
   "cell_type": "markdown",
   "id": "b59f89fa-a5c5-47a7-9008-7311ef13a5ae",
   "metadata": {},
   "source": [
    "# DATA TYPE"
   ]
  },
  {
   "cell_type": "code",
   "execution_count": 11,
   "id": "2007b16d-627b-4329-ab45-4114ea53947b",
   "metadata": {},
   "outputs": [],
   "source": [
    "a='Name'"
   ]
  },
  {
   "cell_type": "code",
   "execution_count": 12,
   "id": "e47bf053-dcc5-46ee-8f5d-1d2bb03cc075",
   "metadata": {},
   "outputs": [],
   "source": [
    "b=12"
   ]
  },
  {
   "cell_type": "code",
   "execution_count": 15,
   "id": "e9c8b40c-7f26-4789-ab44-40d2c7bb14ac",
   "metadata": {},
   "outputs": [],
   "source": [
    "c=5+4j"
   ]
  },
  {
   "cell_type": "code",
   "execution_count": 16,
   "id": "f77394b7-91e5-4944-9d66-b32704f472b1",
   "metadata": {},
   "outputs": [],
   "source": [
    "d=6.88"
   ]
  },
  {
   "cell_type": "code",
   "execution_count": 17,
   "id": "1a3d884c-7cd7-4cc3-980c-6962f7fe52cc",
   "metadata": {},
   "outputs": [
    {
     "data": {
      "text/plain": [
       "int"
      ]
     },
     "execution_count": 17,
     "metadata": {},
     "output_type": "execute_result"
    }
   ],
   "source": [
    "type(b)"
   ]
  },
  {
   "cell_type": "code",
   "execution_count": 18,
   "id": "51d22cd0-651e-4d2e-a964-4acb7b816191",
   "metadata": {},
   "outputs": [
    {
     "data": {
      "text/plain": [
       "complex"
      ]
     },
     "execution_count": 18,
     "metadata": {},
     "output_type": "execute_result"
    }
   ],
   "source": [
    "type(c)"
   ]
  },
  {
   "cell_type": "code",
   "execution_count": 19,
   "id": "279e8bb8-25f4-4236-9c92-8fbf9dc60255",
   "metadata": {},
   "outputs": [
    {
     "data": {
      "text/plain": [
       "float"
      ]
     },
     "execution_count": 19,
     "metadata": {},
     "output_type": "execute_result"
    }
   ],
   "source": [
    "type(d)"
   ]
  },
  {
   "cell_type": "code",
   "execution_count": 21,
   "id": "5c88addf-074a-4afa-8c72-92999915eaa3",
   "metadata": {},
   "outputs": [],
   "source": [
    "g=False"
   ]
  },
  {
   "cell_type": "code",
   "execution_count": 22,
   "id": "de055ed1-b035-4490-9fc8-a398609c4331",
   "metadata": {},
   "outputs": [
    {
     "data": {
      "text/plain": [
       "bool"
      ]
     },
     "execution_count": 22,
     "metadata": {},
     "output_type": "execute_result"
    }
   ],
   "source": [
    "type(g)"
   ]
  },
  {
   "cell_type": "code",
   "execution_count": 23,
   "id": "82b60d55-8178-47cb-94c5-9f7e321a077a",
   "metadata": {},
   "outputs": [],
   "source": [
    "data_casting=int(b)"
   ]
  },
  {
   "cell_type": "code",
   "execution_count": 24,
   "id": "96c27c2d-f22b-4176-9e57-3ad98fbae6ac",
   "metadata": {},
   "outputs": [
    {
     "data": {
      "text/plain": [
       "int"
      ]
     },
     "execution_count": 24,
     "metadata": {},
     "output_type": "execute_result"
    }
   ],
   "source": [
    "type(data_casting)"
   ]
  },
  {
   "cell_type": "code",
   "execution_count": 25,
   "id": "cb53253c-f0ae-42fc-a7b9-8dcf616aef74",
   "metadata": {},
   "outputs": [],
   "source": [
    "x=str(data_casting)"
   ]
  },
  {
   "cell_type": "code",
   "execution_count": 26,
   "id": "de0a0d8b-39a7-463e-8c34-5f62810efefc",
   "metadata": {},
   "outputs": [
    {
     "data": {
      "text/plain": [
       "str"
      ]
     },
     "execution_count": 26,
     "metadata": {},
     "output_type": "execute_result"
    }
   ],
   "source": [
    "type(x)"
   ]
  },
  {
   "cell_type": "markdown",
   "id": "ec2cb932-36f3-441f-8818-98e7a37a9a9c",
   "metadata": {},
   "source": [
    "# String"
   ]
  },
  {
   "cell_type": "code",
   "execution_count": 27,
   "id": "5f6adb09-4bb9-4e16-a3a5-6cdc326a26fa",
   "metadata": {},
   "outputs": [
    {
     "name": "stdout",
     "output_type": "stream",
     "text": [
      "Hello world\n"
     ]
    }
   ],
   "source": [
    "print('Hello world');"
   ]
  },
  {
   "cell_type": "code",
   "execution_count": 28,
   "id": "b9d7c665-e3c2-4b84-a36f-277fa53b0120",
   "metadata": {},
   "outputs": [
    {
     "name": "stdout",
     "output_type": "stream",
     "text": [
      "hello lekhraj\"\n"
     ]
    }
   ],
   "source": [
    "print('hello lekhraj\"')"
   ]
  },
  {
   "cell_type": "code",
   "execution_count": 29,
   "id": "9a152827-0579-42b5-9712-a63e7b32646c",
   "metadata": {},
   "outputs": [],
   "source": [
    "abc=\"Out of The box study center\""
   ]
  },
  {
   "cell_type": "code",
   "execution_count": 30,
   "id": "88e05987-63ae-4b04-b56a-c1e5604cbf89",
   "metadata": {},
   "outputs": [
    {
     "data": {
      "text/plain": [
       "'b'"
      ]
     },
     "execution_count": 30,
     "metadata": {},
     "output_type": "execute_result"
    }
   ],
   "source": [
    "abc[11]"
   ]
  },
  {
   "cell_type": "code",
   "execution_count": 31,
   "id": "17588218-7ffd-42ae-986d-afe94496246a",
   "metadata": {},
   "outputs": [
    {
     "data": {
      "text/plain": [
       "'f '"
      ]
     },
     "execution_count": 31,
     "metadata": {},
     "output_type": "execute_result"
    }
   ],
   "source": [
    "abc[5:7]"
   ]
  },
  {
   "cell_type": "code",
   "execution_count": 33,
   "id": "f06cc2f9-7ecf-472b-831f-e68ce465d49a",
   "metadata": {},
   "outputs": [],
   "source": [
    "def abc(x):\n",
    "    print(x+28)"
   ]
  },
  {
   "cell_type": "code",
   "execution_count": 34,
   "id": "3061d599-0c17-48d9-ac4e-9ef1f5bd34e9",
   "metadata": {},
   "outputs": [
    {
     "name": "stdout",
     "output_type": "stream",
     "text": [
      "62\n"
     ]
    }
   ],
   "source": [
    "abc(34)"
   ]
  },
  {
   "cell_type": "code",
   "execution_count": 37,
   "id": "157630f0-5c02-4980-b4c6-44433a99a386",
   "metadata": {},
   "outputs": [],
   "source": [
    "abc=\"Out of The box study center\""
   ]
  },
  {
   "cell_type": "code",
   "execution_count": 38,
   "id": "3c6c69c9-8a49-4b41-8e08-c6b3bce149db",
   "metadata": {},
   "outputs": [
    {
     "data": {
      "text/plain": [
       "'Out o'"
      ]
     },
     "execution_count": 38,
     "metadata": {},
     "output_type": "execute_result"
    }
   ],
   "source": [
    "abc[:5]"
   ]
  },
  {
   "cell_type": "code",
   "execution_count": 39,
   "id": "65745f87-5ab2-46e4-ab72-11782781a0dd",
   "metadata": {},
   "outputs": [
    {
     "data": {
      "text/plain": [
       "'t o'"
      ]
     },
     "execution_count": 39,
     "metadata": {},
     "output_type": "execute_result"
    }
   ],
   "source": [
    "abc[2:5]"
   ]
  },
  {
   "cell_type": "markdown",
   "id": "ed721e9e-759c-480a-8b1c-524958a2bdcf",
   "metadata": {},
   "source": [
    "# DAY 3 - String Modification"
   ]
  },
  {
   "cell_type": "code",
   "execution_count": 15,
   "id": "47db1f7c-9054-4e8f-907d-640fbcbcfd36",
   "metadata": {},
   "outputs": [],
   "source": [
    "a='I live in Kathmandu & I am working as a Manager at Hotel Hilton'"
   ]
  },
  {
   "cell_type": "code",
   "execution_count": 2,
   "id": "6927cd40-0e53-42ef-81b1-c9764e3c6291",
   "metadata": {},
   "outputs": [
    {
     "name": "stdout",
     "output_type": "stream",
     "text": [
      "I live in Kathmandu and I am working as a Manager at Hotel Hilton\n"
     ]
    }
   ],
   "source": [
    "print(a)"
   ]
  },
  {
   "cell_type": "code",
   "execution_count": 3,
   "id": "68367908-0e7e-418e-8092-880d536fa3dc",
   "metadata": {},
   "outputs": [
    {
     "data": {
      "text/plain": [
       "'I LIVE IN KATHMANDU AND I AM WORKING AS A MANAGER AT HOTEL HILTON'"
      ]
     },
     "execution_count": 3,
     "metadata": {},
     "output_type": "execute_result"
    }
   ],
   "source": [
    "a.upper()"
   ]
  },
  {
   "cell_type": "code",
   "execution_count": 4,
   "id": "97f6fe81-1ba1-4c25-8923-58befae4ed82",
   "metadata": {},
   "outputs": [
    {
     "data": {
      "text/plain": [
       "'i live in kathmandu and i am working as a manager at hotel hilton'"
      ]
     },
     "execution_count": 4,
     "metadata": {},
     "output_type": "execute_result"
    }
   ],
   "source": [
    "a.lower()"
   ]
  },
  {
   "cell_type": "code",
   "execution_count": 6,
   "id": "74109a7c-0d00-4f40-9145-acf7e2b6cd51",
   "metadata": {},
   "outputs": [],
   "source": [
    "def lower(x):\n",
    "    print(x.lower())"
   ]
  },
  {
   "cell_type": "code",
   "execution_count": 7,
   "id": "f21e3bae-87c5-41ba-8c11-a98fd6628464",
   "metadata": {},
   "outputs": [
    {
     "name": "stdout",
     "output_type": "stream",
     "text": [
      "i live in kathmandu and i am working as a manager at hotel hilton\n"
     ]
    }
   ],
   "source": [
    "lower(a)"
   ]
  },
  {
   "cell_type": "code",
   "execution_count": 8,
   "id": "7117ff51-1bcc-4c60-b720-794deebf8b50",
   "metadata": {},
   "outputs": [
    {
     "data": {
      "text/plain": [
       "'I live in Kathmandu and I am working as a Manager at Hotel Hilton'"
      ]
     },
     "execution_count": 8,
     "metadata": {},
     "output_type": "execute_result"
    }
   ],
   "source": [
    "a.strip()"
   ]
  },
  {
   "cell_type": "code",
   "execution_count": 13,
   "id": "426bf95c-d0b1-4771-b9b0-53c27c34799d",
   "metadata": {},
   "outputs": [
    {
     "data": {
      "text/plain": [
       "'I live in Pokhara and I am working as a Manager at Hotel Hilton'"
      ]
     },
     "execution_count": 13,
     "metadata": {},
     "output_type": "execute_result"
    }
   ],
   "source": [
    "a.replace('Kathmandu','Pokhara')"
   ]
  },
  {
   "cell_type": "code",
   "execution_count": 17,
   "id": "143b2963-71a6-412e-a4d6-ea2f1a32fbd3",
   "metadata": {},
   "outputs": [
    {
     "data": {
      "text/plain": [
       "['I live in Kathmandu ', ' I am working as a Manager at Hotel Hilton']"
      ]
     },
     "execution_count": 17,
     "metadata": {},
     "output_type": "execute_result"
    }
   ],
   "source": [
    "a.split('&')"
   ]
  },
  {
   "cell_type": "code",
   "execution_count": 18,
   "id": "332c0fa6-a08f-40c6-b851-af70e94447cd",
   "metadata": {},
   "outputs": [
    {
     "name": "stdout",
     "output_type": "stream",
     "text": [
      "Help on built-in function split:\n",
      "\n",
      "split(sep=None, maxsplit=-1) method of builtins.str instance\n",
      "    Return a list of the substrings in the string, using sep as the separator string.\n",
      "\n",
      "      sep\n",
      "        The separator used to split the string.\n",
      "\n",
      "        When set to None (the default value), will split on any whitespace\n",
      "        character (including \\n \\r \\t \\f and spaces) and will discard\n",
      "        empty strings from the result.\n",
      "      maxsplit\n",
      "        Maximum number of splits.\n",
      "        -1 (the default value) means no limit.\n",
      "\n",
      "    Splitting starts at the front of the string and works to the end.\n",
      "\n",
      "    Note, str.split() is mainly useful for data that has been intentionally\n",
      "    delimited.  With natural text that includes punctuation, consider using\n",
      "    the regular expression module.\n",
      "\n"
     ]
    }
   ],
   "source": [
    "help(a.split)"
   ]
  },
  {
   "cell_type": "code",
   "execution_count": 19,
   "id": "a9c3c8cb-30ce-4442-b7e0-556a9f2bd4ba",
   "metadata": {},
   "outputs": [
    {
     "name": "stdout",
     "output_type": "stream",
     "text": [
      "Help on built-in function pow in module builtins:\n",
      "\n",
      "pow(base, exp, mod=None)\n",
      "    Equivalent to base**exp with 2 arguments or base**exp % mod with 3 arguments\n",
      "\n",
      "    Some types, such as ints, are able to use a more efficient algorithm when\n",
      "    invoked using the three argument form.\n",
      "\n"
     ]
    }
   ],
   "source": [
    "help(pow)"
   ]
  },
  {
   "cell_type": "code",
   "execution_count": 20,
   "id": "dc0277b2-1f20-4fc2-9a3f-de2cd4a4d722",
   "metadata": {},
   "outputs": [
    {
     "data": {
      "text/plain": [
       "builtin_function_or_method"
      ]
     },
     "execution_count": 20,
     "metadata": {},
     "output_type": "execute_result"
    }
   ],
   "source": [
    "type(pow)"
   ]
  },
  {
   "cell_type": "markdown",
   "id": "78f5c1d4-4480-4958-b415-2375b7a934f0",
   "metadata": {},
   "source": [
    "# CONCATENATION"
   ]
  },
  {
   "cell_type": "code",
   "execution_count": 23,
   "id": "9baf13b3-2927-4dc0-8ed0-069a499dcc7a",
   "metadata": {},
   "outputs": [],
   "source": [
    "a='lekhraj'\n",
    "b='rai'"
   ]
  },
  {
   "cell_type": "code",
   "execution_count": 24,
   "id": "6dc04ff6-d78a-4b16-b28a-dcc15c82531b",
   "metadata": {},
   "outputs": [],
   "source": [
    "c=a+b"
   ]
  },
  {
   "cell_type": "code",
   "execution_count": 25,
   "id": "ad8b2092-3ac3-4ade-904f-57edf053fb13",
   "metadata": {},
   "outputs": [
    {
     "data": {
      "text/plain": [
       "'lekhrajrai'"
      ]
     },
     "execution_count": 25,
     "metadata": {},
     "output_type": "execute_result"
    }
   ],
   "source": [
    "c"
   ]
  },
  {
   "cell_type": "markdown",
   "id": "d7bfa47b-631c-4441-9349-d34e747ceecc",
   "metadata": {},
   "source": [
    "# String Format"
   ]
  },
  {
   "cell_type": "code",
   "execution_count": 36,
   "id": "e845f039-b2f6-4228-86a4-8a6b3b8fd3f3",
   "metadata": {},
   "outputs": [],
   "source": [
    "a='Mypercnetage in exam was more than '\n",
    "per=90.89"
   ]
  },
  {
   "cell_type": "code",
   "execution_count": 29,
   "id": "1a60e959-2ef6-4026-a392-55bee3f3c5c6",
   "metadata": {},
   "outputs": [
    {
     "data": {
      "text/plain": [
       "'Mypercnetage in exam was more than 90'"
      ]
     },
     "execution_count": 29,
     "metadata": {},
     "output_type": "execute_result"
    }
   ],
   "source": [
    "a+str(90)"
   ]
  },
  {
   "cell_type": "code",
   "execution_count": 30,
   "id": "164a5470-8fc8-46f1-8e42-3b7fd010d0fa",
   "metadata": {},
   "outputs": [],
   "source": [
    "added_text=f'Mypercnetage in exam was more than {per}'"
   ]
  },
  {
   "cell_type": "code",
   "execution_count": 31,
   "id": "1f3d7263-28f4-44bc-aadd-0c123643f689",
   "metadata": {},
   "outputs": [
    {
     "data": {
      "text/plain": [
       "'Mypercnetage in exam was more than 90'"
      ]
     },
     "execution_count": 31,
     "metadata": {},
     "output_type": "execute_result"
    }
   ],
   "source": [
    "added_text"
   ]
  },
  {
   "cell_type": "code",
   "execution_count": 37,
   "id": "0f34767c-ae5a-498e-8a7a-7e13e28dbf9d",
   "metadata": {},
   "outputs": [],
   "source": [
    "added_text_a=f'Mypercnetage in exam was more than {per:.2f}'"
   ]
  },
  {
   "cell_type": "code",
   "execution_count": 38,
   "id": "a5630936-ff14-4dd5-9739-b0359f909adc",
   "metadata": {},
   "outputs": [
    {
     "data": {
      "text/plain": [
       "'Mypercnetage in exam was more than 90.89'"
      ]
     },
     "execution_count": 38,
     "metadata": {},
     "output_type": "execute_result"
    }
   ],
   "source": [
    "added_text_a"
   ]
  },
  {
   "cell_type": "markdown",
   "id": "030c9ce6-c84d-41a8-ab92-e5fd4dfa5bfb",
   "metadata": {},
   "source": [
    "# Escape Character"
   ]
  },
  {
   "cell_type": "code",
   "execution_count": 39,
   "id": "951a47a6-70b4-4655-9b69-25c5a24f81f5",
   "metadata": {},
   "outputs": [],
   "source": [
    "abc=\"She is Ram's Mother\""
   ]
  },
  {
   "cell_type": "code",
   "execution_count": 40,
   "id": "297b4470-6123-4594-b34d-b75c783e80c9",
   "metadata": {},
   "outputs": [
    {
     "data": {
      "text/plain": [
       "\"She is Ram's Mother\""
      ]
     },
     "execution_count": 40,
     "metadata": {},
     "output_type": "execute_result"
    }
   ],
   "source": [
    "abc"
   ]
  },
  {
   "cell_type": "code",
   "execution_count": 42,
   "id": "dc721580-cd93-4471-a477-f697a5a9cb0d",
   "metadata": {},
   "outputs": [],
   "source": [
    "testvar = 'She is Ram\\'s Mother'"
   ]
  },
  {
   "cell_type": "code",
   "execution_count": 43,
   "id": "b374d4ae-cdc7-485e-826f-b3ad24245968",
   "metadata": {},
   "outputs": [
    {
     "data": {
      "text/plain": [
       "\"She is Ram's Mother\""
      ]
     },
     "execution_count": 43,
     "metadata": {},
     "output_type": "execute_result"
    }
   ],
   "source": [
    "testvar"
   ]
  },
  {
   "cell_type": "code",
   "execution_count": 45,
   "id": "0028c003-36a5-49e7-84be-9859842d91f6",
   "metadata": {},
   "outputs": [],
   "source": [
    "#single quotation escape way\n",
    "abc='She is Ram\\'s Mother'"
   ]
  },
  {
   "cell_type": "code",
   "execution_count": 46,
   "id": "32ee1f71-3771-456d-a326-ac9f62509f27",
   "metadata": {},
   "outputs": [
    {
     "data": {
      "text/plain": [
       "\"She is Ram's Mother\""
      ]
     },
     "execution_count": 46,
     "metadata": {},
     "output_type": "execute_result"
    }
   ],
   "source": [
    "abc"
   ]
  },
  {
   "cell_type": "code",
   "execution_count": 49,
   "id": "3d06f448-1305-4e43-a661-6dcaec70becd",
   "metadata": {},
   "outputs": [],
   "source": [
    "abc='She is Ram\\'s Mother'"
   ]
  },
  {
   "cell_type": "code",
   "execution_count": 50,
   "id": "3393d2a2-5b88-466a-b796-b41ede8d9ff2",
   "metadata": {},
   "outputs": [
    {
     "data": {
      "text/plain": [
       "\"She is Ram's Mother\""
      ]
     },
     "execution_count": 50,
     "metadata": {},
     "output_type": "execute_result"
    }
   ],
   "source": [
    "abc"
   ]
  },
  {
   "cell_type": "code",
   "execution_count": 65,
   "id": "86fb1b9a-fa13-4fba-9c79-cc80bade2f8e",
   "metadata": {},
   "outputs": [],
   "source": [
    "abc=\"She is Rams Mother \\nHer other name is lisa\""
   ]
  },
  {
   "cell_type": "code",
   "execution_count": 66,
   "id": "cd4d62c1-2729-4d74-b49f-e952f91287d7",
   "metadata": {},
   "outputs": [
    {
     "data": {
      "text/plain": [
       "'She is Rams Mother \\nHer other name is lisa'"
      ]
     },
     "execution_count": 66,
     "metadata": {},
     "output_type": "execute_result"
    }
   ],
   "source": [
    "abc"
   ]
  },
  {
   "cell_type": "code",
   "execution_count": 67,
   "id": "532af43a-63f3-4781-8c22-8d9595115fc4",
   "metadata": {},
   "outputs": [
    {
     "name": "stdout",
     "output_type": "stream",
     "text": [
      "She is Rams Mother \n",
      "Her other name is lisa\n"
     ]
    }
   ],
   "source": [
    "print(abc)"
   ]
  },
  {
   "cell_type": "code",
   "execution_count": 68,
   "id": "c40b026f-5da2-4cea-b20f-25a488de80a6",
   "metadata": {},
   "outputs": [
    {
     "data": {
      "text/plain": [
       "'She is rams mother \\nher other name is lisa'"
      ]
     },
     "execution_count": 68,
     "metadata": {},
     "output_type": "execute_result"
    }
   ],
   "source": [
    "abc.capitalize()"
   ]
  },
  {
   "cell_type": "code",
   "execution_count": 72,
   "id": "d4487bb0-bbc8-4685-86bf-bc0838200f36",
   "metadata": {},
   "outputs": [],
   "source": [
    "testingVar = \"pYTHON IS AWESOME lekhraj. how are you?\""
   ]
  },
  {
   "cell_type": "code",
   "execution_count": 73,
   "id": "6a30ce76-4165-4841-8dcc-8fad1c3453bf",
   "metadata": {},
   "outputs": [
    {
     "data": {
      "text/plain": [
       "'Python is awesome lekhraj. how are you?'"
      ]
     },
     "execution_count": 73,
     "metadata": {},
     "output_type": "execute_result"
    }
   ],
   "source": [
    "testingVar.capitalize()"
   ]
  },
  {
   "cell_type": "code",
   "execution_count": 74,
   "id": "93be3b4f-2bbc-4dd6-b8d0-b75f452050dc",
   "metadata": {},
   "outputs": [],
   "source": [
    "import random"
   ]
  },
  {
   "cell_type": "code",
   "execution_count": 77,
   "id": "27aea1c9-7220-4870-9df2-020d13fac915",
   "metadata": {},
   "outputs": [
    {
     "name": "stdout",
     "output_type": "stream",
     "text": [
      "3\n"
     ]
    }
   ],
   "source": [
    "print(random.randrange(1,50))"
   ]
  },
  {
   "cell_type": "markdown",
   "id": "03c81b20-d794-424c-8cf5-ab958833bbc1",
   "metadata": {},
   "source": [
    "# Python Assignment Operator"
   ]
  },
  {
   "cell_type": "code",
   "execution_count": 78,
   "id": "fc31f9b0-a1b3-4b0d-a0ef-6831d007d3b0",
   "metadata": {},
   "outputs": [],
   "source": [
    "a=5"
   ]
  },
  {
   "cell_type": "code",
   "execution_count": 79,
   "id": "abeb9e70-94c6-4ddb-9b14-b15ab896d6a2",
   "metadata": {},
   "outputs": [],
   "source": [
    "x=a+65"
   ]
  },
  {
   "cell_type": "code",
   "execution_count": 80,
   "id": "bb9f68cc-4ab9-4d71-a77d-c6805197b1d7",
   "metadata": {},
   "outputs": [
    {
     "data": {
      "text/plain": [
       "70"
      ]
     },
     "execution_count": 80,
     "metadata": {},
     "output_type": "execute_result"
    }
   ],
   "source": [
    "x"
   ]
  },
  {
   "cell_type": "code",
   "execution_count": 81,
   "id": "cb78021e-2cf9-420d-b3cb-4a5637083c77",
   "metadata": {},
   "outputs": [],
   "source": [
    "a+=5"
   ]
  },
  {
   "cell_type": "code",
   "execution_count": 82,
   "id": "fa5f0583-4cee-4144-b501-a050ea86960b",
   "metadata": {},
   "outputs": [
    {
     "data": {
      "text/plain": [
       "10"
      ]
     },
     "execution_count": 82,
     "metadata": {},
     "output_type": "execute_result"
    }
   ],
   "source": [
    "a"
   ]
  },
  {
   "cell_type": "code",
   "execution_count": 83,
   "id": "fab6f0a9-09fc-498b-a78d-2da5b017d161",
   "metadata": {},
   "outputs": [],
   "source": [
    "a+=x"
   ]
  },
  {
   "cell_type": "code",
   "execution_count": 84,
   "id": "0e932ec7-c81c-4a72-bf53-6b9737a513f0",
   "metadata": {},
   "outputs": [
    {
     "data": {
      "text/plain": [
       "80"
      ]
     },
     "execution_count": 84,
     "metadata": {},
     "output_type": "execute_result"
    }
   ],
   "source": [
    "a"
   ]
  },
  {
   "cell_type": "markdown",
   "id": "058f1495-a133-437d-a616-52580b0bc247",
   "metadata": {},
   "source": [
    "# comparison operator"
   ]
  },
  {
   "cell_type": "code",
   "execution_count": 87,
   "id": "eae1258b-a4be-4c8e-a818-bc02d36c0e57",
   "metadata": {},
   "outputs": [],
   "source": [
    "a=60\n",
    "b=30"
   ]
  },
  {
   "cell_type": "code",
   "execution_count": 88,
   "id": "75fe2c99-70e7-4c51-8d72-d4f1e691430b",
   "metadata": {},
   "outputs": [
    {
     "name": "stdout",
     "output_type": "stream",
     "text": [
      "False\n"
     ]
    }
   ],
   "source": [
    "print(a==b)"
   ]
  },
  {
   "cell_type": "code",
   "execution_count": 89,
   "id": "b12c9155-cdc2-42d4-b014-61aa46eb92e3",
   "metadata": {},
   "outputs": [
    {
     "name": "stdout",
     "output_type": "stream",
     "text": [
      "True\n"
     ]
    }
   ],
   "source": [
    "print(a!=b)"
   ]
  },
  {
   "cell_type": "code",
   "execution_count": null,
   "id": "3661cce2-5cd1-4b98-b382-c22c3adc5d7a",
   "metadata": {},
   "outputs": [],
   "source": []
  }
 ],
 "metadata": {
  "kernelspec": {
   "display_name": "Python 3 (ipykernel)",
   "language": "python",
   "name": "python3"
  },
  "language_info": {
   "codemirror_mode": {
    "name": "ipython",
    "version": 3
   },
   "file_extension": ".py",
   "mimetype": "text/x-python",
   "name": "python",
   "nbconvert_exporter": "python",
   "pygments_lexer": "ipython3",
   "version": "3.12.4"
  }
 },
 "nbformat": 4,
 "nbformat_minor": 5
}
