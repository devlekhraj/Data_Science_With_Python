{
 "cells": [
  {
   "cell_type": "code",
   "execution_count": 8,
   "id": "56d4b41a-d1d7-4ad9-8743-caccec10c46a",
   "metadata": {},
   "outputs": [],
   "source": [
    "import numpy as np"
   ]
  },
  {
   "cell_type": "code",
   "execution_count": 9,
   "id": "6fb1fc25-f193-4501-8002-b3ca7e7fed3a",
   "metadata": {},
   "outputs": [],
   "source": [
    "arr=np.array([34,45,66,78])"
   ]
  },
  {
   "cell_type": "code",
   "execution_count": 10,
   "id": "bf3ab441-3d6e-4479-94df-01e05b45c001",
   "metadata": {},
   "outputs": [
    {
     "data": {
      "text/plain": [
       "array([34, 45, 66, 78])"
      ]
     },
     "execution_count": 10,
     "metadata": {},
     "output_type": "execute_result"
    }
   ],
   "source": [
    "arr"
   ]
  },
  {
   "cell_type": "code",
   "execution_count": 11,
   "id": "a81d2323-3fe4-4367-a21a-f9ea4d419e2b",
   "metadata": {},
   "outputs": [
    {
     "name": "stdout",
     "output_type": "stream",
     "text": [
      "[34 45 66 78]\n"
     ]
    }
   ],
   "source": [
    "print(arr)"
   ]
  },
  {
   "cell_type": "code",
   "execution_count": 12,
   "id": "59e517e4-8184-4907-bacf-589d10286a82",
   "metadata": {},
   "outputs": [
    {
     "data": {
      "text/plain": [
       "'1.26.4'"
      ]
     },
     "execution_count": 12,
     "metadata": {},
     "output_type": "execute_result"
    }
   ],
   "source": [
    "np.__version__"
   ]
  },
  {
   "cell_type": "code",
   "execution_count": 13,
   "id": "ed8ed843-a592-458e-9d30-d7d3cce13bf0",
   "metadata": {},
   "outputs": [
    {
     "data": {
      "text/plain": [
       "223"
      ]
     },
     "execution_count": 13,
     "metadata": {},
     "output_type": "execute_result"
    }
   ],
   "source": [
    "arr.sum()"
   ]
  },
  {
   "cell_type": "code",
   "execution_count": 14,
   "id": "0b5030cd-b599-41bd-91b1-346a97961600",
   "metadata": {},
   "outputs": [
    {
     "data": {
      "text/plain": [
       "dtype('int32')"
      ]
     },
     "execution_count": 14,
     "metadata": {},
     "output_type": "execute_result"
    }
   ],
   "source": [
    "arr.dtype"
   ]
  },
  {
   "cell_type": "markdown",
   "id": "3ddcd39c-f705-49d5-b756-e2acc698754e",
   "metadata": {},
   "source": [
    "# dimensions in numpy array"
   ]
  },
  {
   "cell_type": "code",
   "execution_count": 15,
   "id": "e898073b-47f3-4b68-adfd-4a7761d1cea1",
   "metadata": {},
   "outputs": [],
   "source": [
    "a=np.array(45)"
   ]
  },
  {
   "cell_type": "code",
   "execution_count": 16,
   "id": "b7c5ebf1-f892-4df7-919b-39ec5d617f7f",
   "metadata": {},
   "outputs": [],
   "source": [
    "b = np.array((34, 45), ndmin=5)"
   ]
  },
  {
   "cell_type": "code",
   "execution_count": 17,
   "id": "58213735-e600-4760-8097-c1bb1635b82c",
   "metadata": {},
   "outputs": [],
   "source": [
    "c=np.array(((34,56),(45,23)))"
   ]
  },
  {
   "cell_type": "code",
   "execution_count": 18,
   "id": "c9cf4341-9dea-4f35-ac44-da33941c056b",
   "metadata": {},
   "outputs": [],
   "source": [
    "d=np.array((((45,56),(4,23)),((40,40),(89,90))))"
   ]
  },
  {
   "cell_type": "code",
   "execution_count": 19,
   "id": "17a280e3-41c6-4d9d-bd21-7ba5f726bfa6",
   "metadata": {},
   "outputs": [
    {
     "data": {
      "text/plain": [
       "array([[[45, 56],\n",
       "        [ 4, 23]],\n",
       "\n",
       "       [[40, 40],\n",
       "        [89, 90]]])"
      ]
     },
     "execution_count": 19,
     "metadata": {},
     "output_type": "execute_result"
    }
   ],
   "source": [
    "d"
   ]
  },
  {
   "cell_type": "code",
   "execution_count": 20,
   "id": "39f9d88b-1384-4966-9d1e-b836229d2278",
   "metadata": {},
   "outputs": [
    {
     "data": {
      "text/plain": [
       "0"
      ]
     },
     "execution_count": 20,
     "metadata": {},
     "output_type": "execute_result"
    }
   ],
   "source": [
    "a.ndim"
   ]
  },
  {
   "cell_type": "code",
   "execution_count": 21,
   "id": "3a199e28-e908-4e91-9191-6455118e299f",
   "metadata": {},
   "outputs": [
    {
     "data": {
      "text/plain": [
       "1"
      ]
     },
     "execution_count": 21,
     "metadata": {},
     "output_type": "execute_result"
    }
   ],
   "source": [
    "b.ndim"
   ]
  },
  {
   "cell_type": "code",
   "execution_count": 22,
   "id": "12c958ea-0a26-4cdf-ac3b-bf77a742c63d",
   "metadata": {},
   "outputs": [
    {
     "data": {
      "text/plain": [
       "2"
      ]
     },
     "execution_count": 22,
     "metadata": {},
     "output_type": "execute_result"
    }
   ],
   "source": [
    "c.ndim"
   ]
  },
  {
   "cell_type": "code",
   "execution_count": 23,
   "id": "b3447146-ba33-47b1-9aef-bf05436383b4",
   "metadata": {},
   "outputs": [
    {
     "data": {
      "text/plain": [
       "3"
      ]
     },
     "execution_count": 23,
     "metadata": {},
     "output_type": "execute_result"
    }
   ],
   "source": [
    "d.ndim"
   ]
  },
  {
   "cell_type": "markdown",
   "id": "01f85d5d-c01a-4ce8-9d15-c61e0ba4206f",
   "metadata": {},
   "source": [
    "## Array Indexing in Numpy"
   ]
  },
  {
   "cell_type": "code",
   "execution_count": 20,
   "id": "0395dd25-ad2e-4b19-a778-9a0cf37401bc",
   "metadata": {},
   "outputs": [
    {
     "data": {
      "text/plain": [
       "array([45, 56])"
      ]
     },
     "execution_count": 20,
     "metadata": {},
     "output_type": "execute_result"
    }
   ],
   "source": [
    "d[0][0]"
   ]
  },
  {
   "cell_type": "code",
   "execution_count": 21,
   "id": "5f103d17-88fb-4e3c-ad0e-46b93a53e637",
   "metadata": {},
   "outputs": [
    {
     "data": {
      "text/plain": [
       "45"
      ]
     },
     "execution_count": 21,
     "metadata": {},
     "output_type": "execute_result"
    }
   ],
   "source": [
    "d[0][0][0]"
   ]
  },
  {
   "cell_type": "code",
   "execution_count": 27,
   "id": "a05ca629-bce0-471f-bd69-29e5b627d871",
   "metadata": {},
   "outputs": [],
   "source": [
    "z=np.array([[23,34,56,78,26,78,90],[44,55,66,77,88,99,11]])"
   ]
  },
  {
   "cell_type": "code",
   "execution_count": 28,
   "id": "772d9666-15ca-462e-a974-06ea821b764c",
   "metadata": {},
   "outputs": [
    {
     "data": {
      "text/plain": [
       "array([[23, 34, 56, 78, 26, 78, 90],\n",
       "       [44, 55, 66, 77, 88, 99, 11]])"
      ]
     },
     "execution_count": 28,
     "metadata": {},
     "output_type": "execute_result"
    }
   ],
   "source": [
    "z"
   ]
  },
  {
   "cell_type": "code",
   "execution_count": 24,
   "id": "f9499e93-8bcb-4413-be14-09ea3693bc83",
   "metadata": {},
   "outputs": [
    {
     "data": {
      "text/plain": [
       "26"
      ]
     },
     "execution_count": 24,
     "metadata": {},
     "output_type": "execute_result"
    }
   ],
   "source": [
    "z[4]"
   ]
  },
  {
   "cell_type": "code",
   "execution_count": 29,
   "id": "abe1573e-f204-4107-8580-c680248cc406",
   "metadata": {},
   "outputs": [
    {
     "data": {
      "text/plain": [
       "55"
      ]
     },
     "execution_count": 29,
     "metadata": {},
     "output_type": "execute_result"
    }
   ],
   "source": [
    "z[1,1]"
   ]
  },
  {
   "cell_type": "code",
   "execution_count": 31,
   "id": "60dff4c1-27e2-407a-8f68-065ed9f3ee7a",
   "metadata": {},
   "outputs": [
    {
     "data": {
      "text/plain": [
       "23"
      ]
     },
     "execution_count": 31,
     "metadata": {},
     "output_type": "execute_result"
    }
   ],
   "source": [
    "z[0,0]"
   ]
  },
  {
   "cell_type": "code",
   "execution_count": 32,
   "id": "caf2f579-0a62-4676-a87d-400359fbd9d7",
   "metadata": {},
   "outputs": [
    {
     "data": {
      "text/plain": [
       "array([34, 56])"
      ]
     },
     "execution_count": 32,
     "metadata": {},
     "output_type": "execute_result"
    }
   ],
   "source": [
    "z[0,1:3]"
   ]
  },
  {
   "cell_type": "code",
   "execution_count": 33,
   "id": "30488037-1876-4546-9a6e-e4979c3e01d3",
   "metadata": {},
   "outputs": [],
   "source": [
    "y=np.array([34,55,66,34,556,78,99])"
   ]
  },
  {
   "cell_type": "code",
   "execution_count": 34,
   "id": "13efbb5a-59eb-4cfa-81eb-0dd91faba01d",
   "metadata": {},
   "outputs": [
    {
     "data": {
      "text/plain": [
       "array([ 34,  55,  66,  34, 556,  78,  99])"
      ]
     },
     "execution_count": 34,
     "metadata": {},
     "output_type": "execute_result"
    }
   ],
   "source": [
    "y"
   ]
  },
  {
   "cell_type": "code",
   "execution_count": 35,
   "id": "84abb540-3f15-44fa-a6a2-d0aa21b0967d",
   "metadata": {},
   "outputs": [
    {
     "data": {
      "text/plain": [
       "34"
      ]
     },
     "execution_count": 35,
     "metadata": {},
     "output_type": "execute_result"
    }
   ],
   "source": [
    "y[0]"
   ]
  },
  {
   "cell_type": "code",
   "execution_count": 36,
   "id": "bc2b2131-f7fe-4725-a931-86277166237b",
   "metadata": {},
   "outputs": [
    {
     "data": {
      "text/plain": [
       "array([ 55,  66,  34, 556])"
      ]
     },
     "execution_count": 36,
     "metadata": {},
     "output_type": "execute_result"
    }
   ],
   "source": [
    "y[1:5]"
   ]
  },
  {
   "cell_type": "code",
   "execution_count": 37,
   "id": "57be617c-b64a-4e2c-83e3-ad7c118c4d2d",
   "metadata": {},
   "outputs": [
    {
     "data": {
      "text/plain": [
       "array([ 55,  66,  34, 556])"
      ]
     },
     "execution_count": 37,
     "metadata": {},
     "output_type": "execute_result"
    }
   ],
   "source": [
    "y[1:5]"
   ]
  },
  {
   "cell_type": "code",
   "execution_count": 38,
   "id": "dea9b458-a65f-4c1d-962a-5eb34c1b2c0b",
   "metadata": {},
   "outputs": [
    {
     "data": {
      "text/plain": [
       "array([ 55, 556])"
      ]
     },
     "execution_count": 38,
     "metadata": {},
     "output_type": "execute_result"
    }
   ],
   "source": [
    "y[1:6:3]"
   ]
  },
  {
   "cell_type": "markdown",
   "id": "78ea65fa-2382-4389-9b8a-3edede9c0a78",
   "metadata": {},
   "source": [
    "## Data Types in Numpy"
   ]
  },
  {
   "cell_type": "code",
   "execution_count": 39,
   "id": "306882d3-a302-4f4d-9598-f09f061cf91a",
   "metadata": {},
   "outputs": [
    {
     "data": {
      "text/plain": [
       "dtype('int32')"
      ]
     },
     "execution_count": 39,
     "metadata": {},
     "output_type": "execute_result"
    }
   ],
   "source": [
    "y.dtype"
   ]
  },
  {
   "cell_type": "code",
   "execution_count": 40,
   "id": "c6809c42-985b-43d6-be49-db1619aa4133",
   "metadata": {},
   "outputs": [],
   "source": [
    "x=np.array([23,44,56,78,90,25,76,98])"
   ]
  },
  {
   "cell_type": "code",
   "execution_count": 41,
   "id": "e2444fc6-bda9-4928-bd7b-42c5389de5c6",
   "metadata": {},
   "outputs": [
    {
     "data": {
      "text/plain": [
       "array([23, 44, 56, 78, 90, 25, 76, 98])"
      ]
     },
     "execution_count": 41,
     "metadata": {},
     "output_type": "execute_result"
    }
   ],
   "source": [
    "x"
   ]
  },
  {
   "cell_type": "code",
   "execution_count": 42,
   "id": "497bc999-e825-4c92-9f6d-f9aca75e6d97",
   "metadata": {},
   "outputs": [
    {
     "data": {
      "text/plain": [
       "dtype('int32')"
      ]
     },
     "execution_count": 42,
     "metadata": {},
     "output_type": "execute_result"
    }
   ],
   "source": [
    "x.dtype"
   ]
  },
  {
   "cell_type": "code",
   "execution_count": 43,
   "id": "30a603ee-6d03-460c-a5fc-f42e88b260e4",
   "metadata": {},
   "outputs": [],
   "source": [
    "complex_array = np.array([1 + 2j, 3 + 4j, 5 + 6j])"
   ]
  },
  {
   "cell_type": "code",
   "execution_count": 44,
   "id": "819f73d9-bb7f-4647-afce-aab9d6330871",
   "metadata": {},
   "outputs": [
    {
     "data": {
      "text/plain": [
       "array([1.+2.j, 3.+4.j, 5.+6.j])"
      ]
     },
     "execution_count": 44,
     "metadata": {},
     "output_type": "execute_result"
    }
   ],
   "source": [
    "complex_array"
   ]
  },
  {
   "cell_type": "code",
   "execution_count": 45,
   "id": "c9673438-0266-4d57-a283-f08992d7d9c5",
   "metadata": {},
   "outputs": [],
   "source": [
    "ca = np.array([1, 2, 3], dtype=complex)"
   ]
  },
  {
   "cell_type": "code",
   "execution_count": 46,
   "id": "72c3c295-0d59-4923-9967-57c821a2c3c3",
   "metadata": {},
   "outputs": [
    {
     "data": {
      "text/plain": [
       "array([1.+0.j, 2.+0.j, 3.+0.j])"
      ]
     },
     "execution_count": 46,
     "metadata": {},
     "output_type": "execute_result"
    }
   ],
   "source": [
    "ca"
   ]
  },
  {
   "cell_type": "code",
   "execution_count": 47,
   "id": "a6e78ecc-da0c-4997-94f8-e7444883745c",
   "metadata": {},
   "outputs": [
    {
     "data": {
      "text/plain": [
       "dtype('complex128')"
      ]
     },
     "execution_count": 47,
     "metadata": {},
     "output_type": "execute_result"
    }
   ],
   "source": [
    "ca.dtype"
   ]
  },
  {
   "cell_type": "code",
   "execution_count": 52,
   "id": "c2c2b859-782b-4d64-9ec7-c0a577f8a747",
   "metadata": {},
   "outputs": [],
   "source": [
    "u = np.array([1+2j, 4+1j])"
   ]
  },
  {
   "cell_type": "code",
   "execution_count": 62,
   "id": "261b509d-bfab-4238-900e-44ec3f81c3b4",
   "metadata": {},
   "outputs": [],
   "source": [
    "k=np.array([34.2,33.33, 45.53,222334],dtype='S')"
   ]
  },
  {
   "cell_type": "code",
   "execution_count": 63,
   "id": "63689d59-c74f-4741-a0ea-09ec63343e94",
   "metadata": {},
   "outputs": [
    {
     "data": {
      "text/plain": [
       "array([b'34.2', b'33.33', b'45.53', b'222334'], dtype='|S6')"
      ]
     },
     "execution_count": 63,
     "metadata": {},
     "output_type": "execute_result"
    }
   ],
   "source": [
    "k"
   ]
  },
  {
   "cell_type": "code",
   "execution_count": 59,
   "id": "0df24405-7490-4d67-b45e-820d0cb58669",
   "metadata": {},
   "outputs": [
    {
     "data": {
      "text/plain": [
       "dtype('S8')"
      ]
     },
     "execution_count": 59,
     "metadata": {},
     "output_type": "execute_result"
    }
   ],
   "source": [
    "k.dtype"
   ]
  },
  {
   "cell_type": "code",
   "execution_count": 64,
   "id": "28087a9c-736d-4a14-8377-4bd4680f77c3",
   "metadata": {},
   "outputs": [],
   "source": [
    "##copy\n",
    "\n",
    "te=x.copy()"
   ]
  },
  {
   "cell_type": "code",
   "execution_count": 65,
   "id": "c703d0c6-28d0-4250-a770-a3bd1017dd96",
   "metadata": {},
   "outputs": [
    {
     "data": {
      "text/plain": [
       "array([23, 44, 56, 78, 90, 25, 76, 98])"
      ]
     },
     "execution_count": 65,
     "metadata": {},
     "output_type": "execute_result"
    }
   ],
   "source": [
    "te"
   ]
  },
  {
   "cell_type": "code",
   "execution_count": 66,
   "id": "8ae0f8cd-eec9-46de-826c-4a8714637eb6",
   "metadata": {},
   "outputs": [
    {
     "data": {
      "text/plain": [
       "(8,)"
      ]
     },
     "execution_count": 66,
     "metadata": {},
     "output_type": "execute_result"
    }
   ],
   "source": [
    "## shape\n",
    "\n",
    "x.shape"
   ]
  },
  {
   "cell_type": "code",
   "execution_count": 67,
   "id": "388c451a-d966-4dad-b797-923596c81bf8",
   "metadata": {},
   "outputs": [],
   "source": [
    "z=np.array(([34,33,45,67,23,45,68]))"
   ]
  },
  {
   "cell_type": "code",
   "execution_count": null,
   "id": "648795ce-bb66-4ef9-acda-b3c10f7de932",
   "metadata": {},
   "outputs": [],
   "source": []
  }
 ],
 "metadata": {
  "kernelspec": {
   "display_name": "Python 3 (ipykernel)",
   "language": "python",
   "name": "python3"
  },
  "language_info": {
   "codemirror_mode": {
    "name": "ipython",
    "version": 3
   },
   "file_extension": ".py",
   "mimetype": "text/x-python",
   "name": "python",
   "nbconvert_exporter": "python",
   "pygments_lexer": "ipython3",
   "version": "3.12.4"
  }
 },
 "nbformat": 4,
 "nbformat_minor": 5
}
