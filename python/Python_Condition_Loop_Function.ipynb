{
 "cells": [
  {
   "cell_type": "code",
   "execution_count": 8,
   "id": "1e19ee70-c427-4d6b-a508-76bd30e13456",
   "metadata": {},
   "outputs": [
    {
     "name": "stdout",
     "output_type": "stream",
     "text": [
      "No need to take an umbrella\n"
     ]
    }
   ],
   "source": [
    "#conditions\n",
    "\n",
    "rain=False\n",
    "\n",
    "if rain==True:\n",
    "    print(\"Take umbrella\")\n",
    "else:\n",
    "    print(\"No need to take an umbrella\")"
   ]
  },
  {
   "cell_type": "code",
   "execution_count": 24,
   "id": "d3b0433f-aa4b-43df-b597-0f4b31c0d5c2",
   "metadata": {},
   "outputs": [
    {
     "name": "stdout",
     "output_type": "stream",
     "text": [
      "Grade C\n"
     ]
    }
   ],
   "source": [
    "marks = 70;\n",
    "\n",
    "if(marks> 90):\n",
    "    print(\"You've got gread A+'\")\n",
    "\n",
    "elif marks>80:\n",
    "    print(\"Grade A\")\n",
    "    \n",
    "elif marks>80:\n",
    "    print(\"Grade B\")\n",
    "\n",
    "elif marks>60:\n",
    "    print(\"Grade C\")\n",
    "\n",
    "elif marks>40:\n",
    "    print(\"Grade D\")\n",
    "    \n",
    "else :\n",
    "    print(\"You have failed\")"
   ]
  },
  {
   "cell_type": "code",
   "execution_count": 2,
   "id": "25bbc0dd-4e70-4544-b98b-cdb20d590e54",
   "metadata": {},
   "outputs": [
    {
     "name": "stdin",
     "output_type": "stream",
     "text": [
      "Enter your marks 78\n"
     ]
    },
    {
     "name": "stdout",
     "output_type": "stream",
     "text": [
      "Grade C\n"
     ]
    }
   ],
   "source": [
    "#input from user\n",
    "\n",
    "marks = int(input(\"Enter your marks\"))\n",
    "\n",
    "\n",
    "if(marks> 90):\n",
    "    print(\"You've got gread A+'\")\n",
    "\n",
    "elif marks>80:\n",
    "    print(\"Grade A\")\n",
    "    \n",
    "elif marks>80:\n",
    "    print(\"Grade B\")\n",
    "\n",
    "elif marks>60:\n",
    "    print(\"Grade C\")\n",
    "\n",
    "elif marks>40:\n",
    "    print(\"Grade D\")\n",
    "    \n",
    "else :\n",
    "    print(\"You have failed\")\n"
   ]
  },
  {
   "cell_type": "code",
   "execution_count": 26,
   "id": "381e27da-38e1-4931-8093-1836636f5423",
   "metadata": {},
   "outputs": [
    {
     "data": {
      "text/plain": [
       "str"
      ]
     },
     "execution_count": 26,
     "metadata": {},
     "output_type": "execute_result"
    }
   ],
   "source": [
    "type(marks)"
   ]
  },
  {
   "cell_type": "code",
   "execution_count": 14,
   "id": "4726cd30-94ad-45f8-bba5-09d295504c79",
   "metadata": {},
   "outputs": [
    {
     "name": "stdin",
     "output_type": "stream",
     "text": [
      "enter your choice :\n",
      " Add or + \n",
      " Subtrace or - \n",
      " Multiply or * \n",
      " Divide or / S\n",
      "Input your first Number:  6\n",
      "Input your second Number:  2\n"
     ]
    },
    {
     "name": "stdout",
     "output_type": "stream",
     "text": [
      "4\n"
     ]
    }
   ],
   "source": [
    "# CALCULATOR\n",
    "\n",
    "a_user = input('enter your choice :\\n Add or + \\n Subtrace or - \\n Multiply or * \\n Divide or /').lower()\n",
    "\n",
    "num1 =int(input(\"Input your first Number: \"))\n",
    "num2 =int(input(\"Input your second Number: \"))\n",
    "\n",
    "if a_user=='Divide' or a_user=='/' or a_user=='d':\n",
    "    result=num1/num2;\n",
    "    print(result)\n",
    "\n",
    "elif a_user=='Add' or a_user=='+' or a_user=='a':\n",
    "    result=num1+num2;\n",
    "    print(result)\n",
    "\n",
    "elif a_user=='Subtract' or a_user=='-' or a_user=='s':\n",
    "    result=num1-num2;\n",
    "    print(result)\n",
    "\n",
    "elif a_user=='Multiply' or a_user=='*' or a_user=='m':\n",
    "    result=num1*num2;\n",
    "    print(result)\n",
    "\n",
    "else :\n",
    "    print(\"Wrong decision\")\n"
   ]
  },
  {
   "cell_type": "code",
   "execution_count": null,
   "id": "afdfed50-b9ac-4b12-9803-d72a0c1e94f9",
   "metadata": {},
   "outputs": [],
   "source": []
  }
 ],
 "metadata": {
  "kernelspec": {
   "display_name": "Python 3 (ipykernel)",
   "language": "python",
   "name": "python3"
  },
  "language_info": {
   "codemirror_mode": {
    "name": "ipython",
    "version": 3
   },
   "file_extension": ".py",
   "mimetype": "text/x-python",
   "name": "python",
   "nbconvert_exporter": "python",
   "pygments_lexer": "ipython3",
   "version": "3.12.4"
  }
 },
 "nbformat": 4,
 "nbformat_minor": 5
}
