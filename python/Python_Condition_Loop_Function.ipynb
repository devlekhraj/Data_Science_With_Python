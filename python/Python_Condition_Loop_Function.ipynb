{
 "cells": [
  {
   "cell_type": "code",
   "execution_count": 8,
   "id": "1e19ee70-c427-4d6b-a508-76bd30e13456",
   "metadata": {},
   "outputs": [
    {
     "name": "stdout",
     "output_type": "stream",
     "text": [
      "No need to take an umbrella\n"
     ]
    }
   ],
   "source": [
    "#conditions\n",
    "\n",
    "rain=False\n",
    "\n",
    "if rain==True:\n",
    "    print(\"Take umbrella\")\n",
    "else:\n",
    "    print(\"No need to take an umbrella\")"
   ]
  },
  {
   "cell_type": "code",
   "execution_count": 24,
   "id": "d3b0433f-aa4b-43df-b597-0f4b31c0d5c2",
   "metadata": {},
   "outputs": [
    {
     "name": "stdout",
     "output_type": "stream",
     "text": [
      "Grade C\n"
     ]
    }
   ],
   "source": [
    "marks = 70;\n",
    "\n",
    "if(marks> 90):\n",
    "    print(\"You've got gread A+'\")\n",
    "\n",
    "elif marks>80:\n",
    "    print(\"Grade A\")\n",
    "    \n",
    "elif marks>80:\n",
    "    print(\"Grade B\")\n",
    "\n",
    "elif marks>60:\n",
    "    print(\"Grade C\")\n",
    "\n",
    "elif marks>40:\n",
    "    print(\"Grade D\")\n",
    "    \n",
    "else :\n",
    "    print(\"You have failed\")"
   ]
  },
  {
   "cell_type": "code",
   "execution_count": 2,
   "id": "25bbc0dd-4e70-4544-b98b-cdb20d590e54",
   "metadata": {},
   "outputs": [
    {
     "name": "stdin",
     "output_type": "stream",
     "text": [
      "Enter your marks 78\n"
     ]
    },
    {
     "name": "stdout",
     "output_type": "stream",
     "text": [
      "Grade C\n"
     ]
    }
   ],
   "source": [
    "#input from user\n",
    "\n",
    "marks = int(input(\"Enter your marks\"))\n",
    "\n",
    "\n",
    "if(marks> 90):\n",
    "    print(\"You've got gread A+'\")\n",
    "\n",
    "elif marks>80:\n",
    "    print(\"Grade A\")\n",
    "    \n",
    "elif marks>80:\n",
    "    print(\"Grade B\")\n",
    "\n",
    "elif marks>60:\n",
    "    print(\"Grade C\")\n",
    "\n",
    "elif marks>40:\n",
    "    print(\"Grade D\")\n",
    "    \n",
    "else :\n",
    "    print(\"You have failed\")\n"
   ]
  },
  {
   "cell_type": "code",
   "execution_count": 26,
   "id": "381e27da-38e1-4931-8093-1836636f5423",
   "metadata": {},
   "outputs": [
    {
     "data": {
      "text/plain": [
       "str"
      ]
     },
     "execution_count": 26,
     "metadata": {},
     "output_type": "execute_result"
    }
   ],
   "source": [
    "type(marks)"
   ]
  },
  {
   "cell_type": "code",
   "execution_count": 14,
   "id": "4726cd30-94ad-45f8-bba5-09d295504c79",
   "metadata": {},
   "outputs": [
    {
     "name": "stdin",
     "output_type": "stream",
     "text": [
      "enter your choice :\n",
      " Add or + \n",
      " Subtrace or - \n",
      " Multiply or * \n",
      " Divide or / S\n",
      "Input your first Number:  6\n",
      "Input your second Number:  2\n"
     ]
    },
    {
     "name": "stdout",
     "output_type": "stream",
     "text": [
      "4\n"
     ]
    }
   ],
   "source": [
    "# CALCULATOR\n",
    "\n",
    "a_user = input('enter your choice :\\n Add or + \\n Subtrace or - \\n Multiply or * \\n Divide or /').lower()\n",
    "\n",
    "num1 =int(input(\"Input your first Number: \"))\n",
    "num2 =int(input(\"Input your second Number: \"))\n",
    "\n",
    "if a_user=='Divide' or a_user=='/' or a_user=='d':\n",
    "    result=num1/num2;\n",
    "    print(result)\n",
    "\n",
    "elif a_user=='Add' or a_user=='+' or a_user=='a':\n",
    "    result=num1+num2;\n",
    "    print(result)\n",
    "\n",
    "elif a_user=='Subtract' or a_user=='-' or a_user=='s':\n",
    "    result=num1-num2;\n",
    "    print(result)\n",
    "\n",
    "elif a_user=='Multiply' or a_user=='*' or a_user=='m':\n",
    "    result=num1*num2;\n",
    "    print(result)\n",
    "\n",
    "else :\n",
    "    print(\"Wrong decision\")\n"
   ]
  },
  {
   "cell_type": "code",
   "execution_count": 2,
   "id": "afdfed50-b9ac-4b12-9803-d72a0c1e94f9",
   "metadata": {},
   "outputs": [
    {
     "name": "stdout",
     "output_type": "stream",
     "text": [
      "Welcome to the Interactive Calculator!\n",
      "Please select an operation from the following options:\n",
      "1. Add (+)\n",
      "2. Subtract (-)\n",
      "3. Multiply (*)\n",
      "4. Divide (/)\n"
     ]
    },
    {
     "name": "stdin",
     "output_type": "stream",
     "text": [
      "Enter your choice (Add, Subtract, Multiply, Divide or +, -, *, /):  /\n",
      "Enter the first number:  3\n",
      "Enter the second number:  9\n"
     ]
    },
    {
     "name": "stdout",
     "output_type": "stream",
     "text": [
      "\n",
      "Result: 3.0 / 9.0 = 0.3333333333333333\n"
     ]
    }
   ],
   "source": [
    "# A Simple Interactive Calculator with Clear Instructions\n",
    "\n",
    "print(\"Welcome to the Interactive Calculator!\")\n",
    "print(\"Please select an operation from the following options:\")\n",
    "print(\"1. Add (+)\")\n",
    "print(\"2. Subtract (-)\")\n",
    "print(\"3. Multiply (*)\")\n",
    "print(\"4. Divide (/)\")\n",
    "\n",
    "# Take input from the user for operation and convert to lowercase for consistency\n",
    "operation = input(\"Enter your choice (Add, Subtract, Multiply, Divide or +, -, *, /): \").strip().lower()\n",
    "\n",
    "# Ensure the user enters valid numbers\n",
    "try:\n",
    "    num1 = float(input(\"Enter the first number: \"))\n",
    "    num2 = float(input(\"Enter the second number: \"))\n",
    "except ValueError:\n",
    "    print(\"Invalid input! Please enter valid numbers.\")\n",
    "    exit()\n",
    "\n",
    "# Perform the appropriate operation based on user input\n",
    "if operation == 'add' or operation == '+' or operation == 'a':\n",
    "    result = num1 + num2\n",
    "    print(f\"\\nResult: {num1} + {num2} = {result}\")\n",
    "\n",
    "elif operation == 'subtract' or operation == '-' or operation == 's':\n",
    "    result = num1 - num2\n",
    "    print(f\"\\nResult: {num1} - {num2} = {result}\")\n",
    "\n",
    "elif operation == 'multiply' or operation == '*' or operation == 'm':\n",
    "    result = num1 * num2\n",
    "    print(f\"\\nResult: {num1} * {num2} = {result}\")\n",
    "\n",
    "elif operation == 'divide' or operation == '/' or operation == 'd':\n",
    "    if num2 != 0:  # Avoid division by zero\n",
    "        result = num1 / num2\n",
    "        print(f\"\\nResult: {num1} / {num2} = {result:.2f}\")  # Show result with 2 decimal places\n",
    "    else:\n",
    "        print(\"Error: Division by zero is not allowed!\")\n",
    "\n",
    "else:\n",
    "    print(\"Invalid operation choice! Please restart and select a valid operation.\")\n"
   ]
  },
  {
   "cell_type": "code",
   "execution_count": 2,
   "id": "fbf87d79-3c4b-414c-894b-22904eeab83d",
   "metadata": {},
   "outputs": [
    {
     "name": "stdout",
     "output_type": "stream",
     "text": [
      "0 is an even numer\n",
      "1 is odd number\n",
      "2 is an even numer\n",
      "3 is odd number\n",
      "4 is an even numer\n",
      "5 is odd number\n",
      "6 is an even numer\n",
      "7 is odd number\n",
      "8 is an even numer\n",
      "9 is odd number\n",
      "10 is an even numer\n",
      "11 is odd number\n",
      "12 is an even numer\n",
      "13 is odd number\n",
      "14 is an even numer\n",
      "15 is odd number\n",
      "16 is an even numer\n",
      "17 is odd number\n",
      "18 is an even numer\n",
      "19 is odd number\n",
      "20 is an even numer\n",
      "21 is odd number\n",
      "22 is an even numer\n",
      "23 is odd number\n",
      "24 is an even numer\n",
      "25 is odd number\n",
      "26 is an even numer\n",
      "27 is odd number\n",
      "28 is an even numer\n",
      "29 is odd number\n",
      "30 is an even numer\n",
      "31 is odd number\n",
      "32 is an even numer\n",
      "33 is odd number\n",
      "34 is an even numer\n",
      "35 is odd number\n",
      "36 is an even numer\n",
      "37 is odd number\n",
      "38 is an even numer\n",
      "39 is odd number\n",
      "40 is an even numer\n",
      "41 is odd number\n",
      "42 is an even numer\n",
      "43 is odd number\n",
      "44 is an even numer\n",
      "45 is odd number\n",
      "46 is an even numer\n",
      "47 is odd number\n",
      "48 is an even numer\n",
      "49 is odd number\n"
     ]
    }
   ],
   "source": [
    "a=0\n",
    "while(a<50):\n",
    "    if a%2==0:\n",
    "        print(f'{a} is an even numer')\n",
    "        a+=1\n",
    "\n",
    "    else:\n",
    "        print(f'{a} is odd number')\n",
    "        a+=1\n",
    "        "
   ]
  },
  {
   "cell_type": "code",
   "execution_count": 4,
   "id": "a33676dc-ebbd-4635-81b9-7b3e68e5be0d",
   "metadata": {},
   "outputs": [
    {
     "name": "stdout",
     "output_type": "stream",
     "text": [
      "The total bill is 195\n",
      "The average of money spent is 39.0\n"
     ]
    }
   ],
   "source": [
    "bill=[34,45,6,67,43]\n",
    "total_bill=0\n",
    "\n",
    "for a in bill:\n",
    "    total_bill+=a\n",
    "\n",
    "print(f'The total bill is {total_bill}')\n",
    "print(f'The average of money spent is {total_bill/len(bill)}')"
   ]
  },
  {
   "cell_type": "code",
   "execution_count": 5,
   "id": "5ece63fc-abac-45d3-9ef3-12edd19d44ee",
   "metadata": {},
   "outputs": [
    {
     "name": "stdin",
     "output_type": "stream",
     "text": [
      "Enter a number:  5\n"
     ]
    },
    {
     "name": "stdout",
     "output_type": "stream",
     "text": [
      "The sum of the first 5 natural numbers is: 15\n"
     ]
    }
   ],
   "source": [
    "# Function to calculate the sum of first n natural numbers\n",
    "def sum_of_natural_numbers(n):\n",
    "    total_sum = 0\n",
    "    for i in range(1, n + 1):\n",
    "        total_sum += i\n",
    "    return total_sum\n",
    "\n",
    "# Input: n (the first n natural numbers to sum)\n",
    "n = int(input(\"Enter a number: \"))\n",
    "\n",
    "# Output: Sum of first n natural numbers\n",
    "print(\"The sum of the first\", n, \"natural numbers is:\", sum_of_natural_numbers(n))"
   ]
  },
  {
   "cell_type": "code",
   "execution_count": 7,
   "id": "e1a4f141-aca2-43b5-b998-d4b8ecb2ac74",
   "metadata": {},
   "outputs": [
    {
     "name": "stdin",
     "output_type": "stream",
     "text": [
      "Enter a number:  4\n"
     ]
    },
    {
     "name": "stdout",
     "output_type": "stream",
     "text": [
      "The factorial of 4 is: 24\n"
     ]
    }
   ],
   "source": [
    "# Function to calculate the factorial of a given number using a while loop\n",
    "def factorial(n):\n",
    "    result = 1\n",
    "    while n > 0:\n",
    "        result *= n\n",
    "        n -= 1\n",
    "    return result\n",
    "\n",
    "# Input: n (the number to find the factorial of)\n",
    "n = int(input(\"Enter a number: \"))\n",
    "\n",
    "# Output: Factorial of the number\n",
    "print(\"The factorial of\", n, \"is:\", factorial(n))"
   ]
  },
  {
   "cell_type": "code",
   "execution_count": 9,
   "id": "de7abdbc-ec8b-4d98-aa7b-bde623485aee",
   "metadata": {},
   "outputs": [
    {
     "name": "stdin",
     "output_type": "stream",
     "text": [
      "Enter a number:  20\n"
     ]
    },
    {
     "name": "stdout",
     "output_type": "stream",
     "text": [
      "20 x 1 = 20\n",
      "20 x 2 = 40\n",
      "20 x 3 = 60\n",
      "20 x 4 = 80\n",
      "20 x 5 = 100\n",
      "20 x 6 = 120\n",
      "20 x 7 = 140\n",
      "20 x 8 = 160\n",
      "20 x 9 = 180\n",
      "20 x 10 = 200\n"
     ]
    }
   ],
   "source": [
    "# Function to print the multiplication table of a given number\n",
    "def multiplication_table(n):\n",
    "    for i in range(1, 11):\n",
    "        print(f\"{n} x {i} = {n * i}\")\n",
    "\n",
    "# Input: n (the number for which the multiplication table will be printed)\n",
    "n = int(input(\"Enter a number: \"))\n",
    "\n",
    "# Output: Multiplication table of the number\n",
    "multiplication_table(n)"
   ]
  },
  {
   "cell_type": "code",
   "execution_count": 13,
   "id": "b4d970dd-e85d-4f8a-a318-b958479e50fc",
   "metadata": {},
   "outputs": [
    {
     "name": "stdin",
     "output_type": "stream",
     "text": [
      "Enter string that you want to reverse: lkhraj\n"
     ]
    },
    {
     "name": "stdout",
     "output_type": "stream",
     "text": [
      "jarhkl\n"
     ]
    }
   ],
   "source": [
    "# reverse a sring (while loop)\n",
    "#write python program that reverses a give string using a while loop. \n",
    "#example input 'hello' output: 'ohhel'\n",
    "\n",
    "#for loop\n",
    "string=input('Enter string that you want to reverse:')\n",
    "e_str=\"\"\n",
    "for i in string:\n",
    "    e_str=i+e_str\n",
    "    \n",
    "print(e_str)\n",
    "\n"
   ]
  },
  {
   "cell_type": "code",
   "execution_count": 15,
   "id": "4b8009f3-f136-4b09-9d47-3f946599a1bd",
   "metadata": {},
   "outputs": [
    {
     "name": "stdin",
     "output_type": "stream",
     "text": [
      "String:  lekhraj\n"
     ]
    },
    {
     "name": "stdout",
     "output_type": "stream",
     "text": [
      "jarhkel\n"
     ]
    }
   ],
   "source": [
    "#while loop\n",
    "string=input('String: ')\n",
    "\n",
    "e_str=\"\"\n",
    "a=0\n",
    "while a<len(string):\n",
    "    e_str=string[a]+e_str\n",
    "    a=a+1\n",
    "\n",
    "print(e_str)"
   ]
  },
  {
   "cell_type": "markdown",
   "id": "e6f5078d-657c-4548-88b3-d359aa79ee78",
   "metadata": {},
   "source": [
    "# Functions"
   ]
  },
  {
   "cell_type": "code",
   "execution_count": 1,
   "id": "c4db4910-ce20-4313-85a3-e5652f64f4a2",
   "metadata": {},
   "outputs": [],
   "source": [
    "def add():\n",
    "    print('the function is working')"
   ]
  },
  {
   "cell_type": "code",
   "execution_count": 2,
   "id": "899d7075-36c5-409f-8b86-59801204257f",
   "metadata": {},
   "outputs": [
    {
     "name": "stdout",
     "output_type": "stream",
     "text": [
      "the function is working\n"
     ]
    }
   ],
   "source": [
    "add()"
   ]
  },
  {
   "cell_type": "code",
   "execution_count": 3,
   "id": "244c6038-68da-41d5-bb62-187bcb5883ad",
   "metadata": {},
   "outputs": [],
   "source": [
    "def test(a,b,c,d,e):\n",
    "    x=a+b+c\n",
    "    y=x+d+e\n",
    "    print(y)"
   ]
  },
  {
   "cell_type": "code",
   "execution_count": 4,
   "id": "1ff21783-e256-42e5-b12c-ce919efec33c",
   "metadata": {},
   "outputs": [
    {
     "name": "stdout",
     "output_type": "stream",
     "text": [
      "15\n"
     ]
    }
   ],
   "source": [
    "test(1,2,3,4,5)"
   ]
  },
  {
   "cell_type": "code",
   "execution_count": 5,
   "id": "33b4347a-93b9-4f56-8d59-2b208aa9b2a1",
   "metadata": {},
   "outputs": [],
   "source": [
    "def test(*val):\n",
    "    print(val[0])\n",
    "    print(val[1])"
   ]
  },
  {
   "cell_type": "code",
   "execution_count": 6,
   "id": "1ac789e7-f440-4c8b-8950-074583f37bc2",
   "metadata": {},
   "outputs": [
    {
     "name": "stdout",
     "output_type": "stream",
     "text": [
      "49\n",
      "40\n"
     ]
    }
   ],
   "source": [
    "test(49,40)"
   ]
  },
  {
   "cell_type": "code",
   "execution_count": 7,
   "id": "4774f9b6-3bdb-46af-b4d7-1547fbb62cb2",
   "metadata": {},
   "outputs": [],
   "source": [
    "def status(city='kathandu', name='udit', age='27'):\n",
    "    print(f'I live in {city}. I am {name} and my age is {age}')"
   ]
  },
  {
   "cell_type": "code",
   "execution_count": 9,
   "id": "5762e5e0-43cd-4840-9012-db75b4a7d01b",
   "metadata": {},
   "outputs": [
    {
     "name": "stdout",
     "output_type": "stream",
     "text": [
      "I live in birgung. I am hari and my age is 34\n"
     ]
    }
   ],
   "source": [
    "status('birgung','hari',34)"
   ]
  },
  {
   "cell_type": "code",
   "execution_count": 10,
   "id": "401c2e61-9600-4258-83ea-0a55a5de0685",
   "metadata": {},
   "outputs": [],
   "source": [
    "def test(**val):\n",
    "    print(val['name'],val['age'],val['city'])"
   ]
  },
  {
   "cell_type": "code",
   "execution_count": 12,
   "id": "cc960372-c721-494e-b556-125b23b3a825",
   "metadata": {},
   "outputs": [
    {
     "name": "stdout",
     "output_type": "stream",
     "text": [
      "lekhraj 23 kathmandu\n"
     ]
    }
   ],
   "source": [
    "test(name='lekhraj',age=23,city='kathmandu')"
   ]
  },
  {
   "cell_type": "code",
   "execution_count": null,
   "id": "3a7f8b46-c061-4bbe-9d9f-2d19dcfb9bd3",
   "metadata": {},
   "outputs": [],
   "source": []
  }
 ],
 "metadata": {
  "kernelspec": {
   "display_name": "Python 3 (ipykernel)",
   "language": "python",
   "name": "python3"
  },
  "language_info": {
   "codemirror_mode": {
    "name": "ipython",
    "version": 3
   },
   "file_extension": ".py",
   "mimetype": "text/x-python",
   "name": "python",
   "nbconvert_exporter": "python",
   "pygments_lexer": "ipython3",
   "version": "3.12.4"
  }
 },
 "nbformat": 4,
 "nbformat_minor": 5
}
