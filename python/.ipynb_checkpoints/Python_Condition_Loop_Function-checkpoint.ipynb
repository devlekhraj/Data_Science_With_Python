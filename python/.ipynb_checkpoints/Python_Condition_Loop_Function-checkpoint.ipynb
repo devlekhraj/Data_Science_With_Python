{
 "cells": [
  {
   "cell_type": "code",
   "execution_count": 8,
   "id": "1e19ee70-c427-4d6b-a508-76bd30e13456",
   "metadata": {},
   "outputs": [
    {
     "name": "stdout",
     "output_type": "stream",
     "text": [
      "No need to take an umbrella\n"
     ]
    }
   ],
   "source": [
    "#conditions\n",
    "\n",
    "rain=False\n",
    "\n",
    "if rain==True:\n",
    "    print(\"Take umbrella\")\n",
    "else:\n",
    "    print(\"No need to take an umbrella\")"
   ]
  },
  {
   "cell_type": "code",
   "execution_count": 24,
   "id": "d3b0433f-aa4b-43df-b597-0f4b31c0d5c2",
   "metadata": {},
   "outputs": [
    {
     "name": "stdout",
     "output_type": "stream",
     "text": [
      "Grade C\n"
     ]
    }
   ],
   "source": [
    "marks = 70;\n",
    "\n",
    "if(marks> 90):\n",
    "    print(\"You've got gread A+'\")\n",
    "\n",
    "elif marks>80:\n",
    "    print(\"Grade A\")\n",
    "    \n",
    "elif marks>80:\n",
    "    print(\"Grade B\")\n",
    "\n",
    "elif marks>60:\n",
    "    print(\"Grade C\")\n",
    "\n",
    "elif marks>40:\n",
    "    print(\"Grade D\")\n",
    "    \n",
    "else :\n",
    "    print(\"You have failed\")"
   ]
  },
  {
   "cell_type": "code",
   "execution_count": null,
   "id": "25bbc0dd-4e70-4544-b98b-cdb20d590e54",
   "metadata": {},
   "outputs": [],
   "source": [
    "#input from user\n",
    "\n",
    "marks = int(input(\"Enter your marks\"))\n",
    "\n",
    "\n",
    "if(marks> 90):\n",
    "    print(\"You've got gread A+'\")\n",
    "\n",
    "elif marks>80:\n",
    "    print(\"Grade A\")\n",
    "    \n",
    "elif marks>80:\n",
    "    print(\"Grade B\")\n",
    "\n",
    "elif marks>60:\n",
    "    print(\"Grade C\")\n",
    "\n",
    "elif marks>40:\n",
    "    print(\"Grade D\")\n",
    "    \n",
    "else :\n",
    "    print(\"You have failed\")"
   ]
  },
  {
   "cell_type": "code",
   "execution_count": 26,
   "id": "381e27da-38e1-4931-8093-1836636f5423",
   "metadata": {},
   "outputs": [
    {
     "data": {
      "text/plain": [
       "str"
      ]
     },
     "execution_count": 26,
     "metadata": {},
     "output_type": "execute_result"
    }
   ],
   "source": [
    "type(marks)"
   ]
  },
  {
   "cell_type": "code",
   "execution_count": null,
   "id": "4726cd30-94ad-45f8-bba5-09d295504c79",
   "metadata": {},
   "outputs": [],
   "source": []
  }
 ],
 "metadata": {
  "kernelspec": {
   "display_name": "Python 3 (ipykernel)",
   "language": "python",
   "name": "python3"
  },
  "language_info": {
   "codemirror_mode": {
    "name": "ipython",
    "version": 3
   },
   "file_extension": ".py",
   "mimetype": "text/x-python",
   "name": "python",
   "nbconvert_exporter": "python",
   "pygments_lexer": "ipython3",
   "version": "3.12.4"
  }
 },
 "nbformat": 4,
 "nbformat_minor": 5
}
