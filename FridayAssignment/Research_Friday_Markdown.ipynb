{
 "cells": [
  {
   "cell_type": "markdown",
   "id": "3b94ee3d-4747-4574-98dc-8820979f37b3",
   "metadata": {
    "jp-MarkdownHeadingCollapsed": true
   },
   "source": [
    "# Markdown in Jupyter Notebook: A Mini-Course\n",
    "\n",
    "## Introduction\r\n",
    "Hello! I am Lekh Raj Rai, a student/researcher learning Markdown for efficient documention\n",
    ".\r\n",
    "\n"
   ]
  },
  {
   "cell_type": "markdown",
   "id": "43735e9e-0f1c-4a6d-8e2d-f5219c4bd04a",
   "metadata": {},
   "source": [
    "# Markdown Elements\n",
    "\n"
   ]
  },
  {
   "cell_type": "markdown",
   "id": "55cb41f6-288e-40f2-a3eb-0b31a5bda72f",
   "metadata": {},
   "source": [
    "# 1.Italic (_)\n",
    "\n",
    "_Writing in Markdown is not that hard!_"
   ]
  },
  {
   "cell_type": "markdown",
   "id": "dac4aeff-5805-4478-ab91-1d93ee3487d6",
   "metadata": {},
   "source": [
    "# 2. Bold (**)\n",
    "**I will complete these lessons!**"
   ]
  },
  {
   "cell_type": "markdown",
   "id": "d6063b0b-4e69-4064-8eb7-214f9b1c6024",
   "metadata": {},
   "source": [
    "# 3. Bold and Italics - ** and _\n",
    "\n",
    "\"_Of course_,\" she whispered. Then, she shouted: \"All I need is **a little moxie!**\"  \n",
    "**_If you're thinking to yourself, This is unbelievable, you'd probably be right._**"
   ]
  },
  {
   "cell_type": "markdown",
   "id": "1e15a373-f089-4d50-addb-4bf0d56543a4",
   "metadata": {},
   "source": [
    "# 4. Headings - Heading 1 to heading 6 with corresponding heading has with number\n",
    "\n",
    "# Heading one - one hash \\#\n",
    "## Heading two - two hash \\#\\#\n",
    "### Heading Three - with three hash \\#\\#\\#\n",
    "#### Heading Four - with four hash \\#\\#\\#\\#\n",
    "##### Heading Five - with four hash \\#\\#\\#\\#\\#\n",
    "###### Heading Six - with siz hash \\#\\#\\#\\#\\#\\#"
   ]
  },
  {
   "cell_type": "markdown",
   "id": "04298cf8-9017-4193-8ae7-16f379249314",
   "metadata": {},
   "source": [
    "# 5 Links\n",
    "\n",
    "My github Link. ([Visit GitHub!](https://github.com/lekhu97))  \n",
    "[You're **really, really** going to want to see this.](www.dailykitten.com)  \n",
    "The Latest News from the [BBC](www.bbc.com/news)\n"
   ]
  },
  {
   "cell_type": "markdown",
   "id": "247d79d9-5819-43bd-8bca-b09f0570c4c4",
   "metadata": {},
   "source": [
    "# 6 Reference Link \n",
    "\n",
    "Do you want to [another place][]?\r\n",
    "\r\n",
    "Well, do I have [the website for you][another place]!\r\n",
    "\r\n",
    "[another place]: www.zombo.com\r\n",
    "[another fun place]: www.stumbleupon.com"
   ]
  },
  {
   "cell_type": "markdown",
   "id": "f6550fa4-1d24-419c-80a7-55b3391f0618",
   "metadata": {},
   "source": [
    "# Image \n",
    "\n",
    "![My GitHub Image](https://avatars.githubusercontent.com/u/26676685?v=4)"
   ]
  },
  {
   "cell_type": "markdown",
   "id": "0d2ce386-1af1-438e-948a-295aee4d872a",
   "metadata": {},
   "source": [
    "# 7 Reference Image \n",
    "\n",
    "[Black cat][Black]\r\n",
    "\r\n",
    "[Orange cat][Orange]\r\n",
    "\r\n",
    "[Black]: https://upload.wikimedia.org/wikipedia/commons/a/a3/81_INF_DIV_SSI.jpg\r\n",
    "[Orange]: http://icons.iconarchive.com/icons/google/noto-emoji-animals-nature/256/22221-cat-icon.png\r\n",
    "\r\n",
    "![Black]\r\n",
    "![Orange]"
   ]
  },
  {
   "cell_type": "markdown",
   "id": "525dc08a-1ed4-4311-a8e1-6e7e90226d00",
   "metadata": {},
   "source": [
    "# 8 Blockquotes <\n",
    "\n",
    ">\"In a few moments he was barefoot, his stockings folded in his pockets and his\r\n",
    "  canvas shoes dangling by their knotted laces over his shoulders and, picking a\r\n",
    "  pointed salt-eaten stick out of the jetsam among the rocks, he clambered down\r\n",
    "  the slope of the breakwate\n",
    ">\n",
    "> His words seemed to have struck some deep chord in his own nature. Had he spoken\r\n",
    "of himself, of himself as he was or wished to be? Stephen watched his face for some\r\n",
    "moments in silence. A cold sadness was there. He had spoken of himself, of his own\r\n",
    "loneliness which he feared.\r\n",
    ">\r\n",
    "> —Of whom are you speaking? Stephen asked at length.\r\n",
    ">\r\n",
    "> Cranly did not answer.r.\""
   ]
  },
  {
   "cell_type": "markdown",
   "id": "32464611-782a-4849-90f6-45f8407ee998",
   "metadata": {},
   "source": [
    "# 9 Blockquotes \n",
    "\n",
    "## Favorite Quotes\r\n",
    "\r\n",
    "> \"The only limit to our realization of tomorrow is our doubts of today.\" - Franklin D. Roosevelt\r\n",
    "\r\n",
    "> \"Code is like humor. When you have to explain it, it’s bad.\" - Cory House\r\n"
   ]
  },
  {
   "cell_type": "markdown",
   "id": "ba7f01fd-10df-499c-9d3c-8ce3cf10fed7",
   "metadata": {},
   "source": [
    "# 10 List \n",
    "\n",
    "## Fun Facts\r\n",
    "\r\n",
    "- I love coding in Python.\r\n",
    "- I enjoy reading science fiction books.\r\n",
    "- I'm passionate about photography and nature walks.\r\n",
    "\n",
    "\n",
    "# 11 Order List \n",
    "\n",
    "1. Crack three eggs over a bowl\n",
    "2. \n",
    "Pour a gallon of milk into the bow\n",
    "3. \r\n",
    "Rub the salmon vigorously wi butter\n",
    "4. r\r\n",
    "Drop the salmon into the egg-milk bowlter"
   ]
  },
  {
   "cell_type": "markdown",
   "id": "25d1288d-b216-42b2-9ddb-0953e811cac0",
   "metadata": {},
   "source": [
    "## Code Snippet\r\n",
    "\r\n",
    "Here's a simple Python script:\r\n",
    "\r\n",
    "```python\r\n",
    "def greet(name):\r\n",
    "    return f\"Hello, {name}!\"\r\n",
    "\r\n",
    "print(greet(\"World\"))\r\n"
   ]
  },
  {
   "cell_type": "markdown",
   "id": "eb460e2f-f1a2-4c7c-ac71-a21213e09a2d",
   "metadata": {},
   "source": [
    "## Conclusion\n",
    "\n",
    "Through this mini-course, I’ve learned how to use Markdown to format documents, making them easier to read and share. This will be incredibly useful in my future work, especially when creating documentation, sharing research, or contributing to GitHub repositories. Markdown's simplicity and flexibility make it an essential tool for every developer and writer.\n"
   ]
  },
  {
   "cell_type": "code",
   "execution_count": null,
   "id": "74aa6090-1027-4f2b-9348-72d25e76225e",
   "metadata": {},
   "outputs": [],
   "source": []
  }
 ],
 "metadata": {
  "kernelspec": {
   "display_name": "Python 3 (ipykernel)",
   "language": "python",
   "name": "python3"
  },
  "language_info": {
   "codemirror_mode": {
    "name": "ipython",
    "version": 3
   },
   "file_extension": ".py",
   "mimetype": "text/x-python",
   "name": "python",
   "nbconvert_exporter": "python",
   "pygments_lexer": "ipython3",
   "version": "3.12.4"
  }
 },
 "nbformat": 4,
 "nbformat_minor": 5
}
